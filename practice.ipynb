{
  "nbformat": 4,
  "nbformat_minor": 0,
  "metadata": {
    "colab": {
      "provenance": []
    },
    "kernelspec": {
      "name": "python3",
      "display_name": "Python 3"
    },
    "language_info": {
      "name": "python"
    }
  },
  "cells": [
    {
      "cell_type": "code",
      "execution_count": 1,
      "metadata": {
        "id": "H-A94dOPVv8J"
      },
      "outputs": [],
      "source": [
        "import numpy as np\n",
        "import pandas as pd"
      ]
    },
    {
      "cell_type": "code",
      "source": [
        "food = pd.read_excel('/content/통합 식품영양성분DB_음식_20230313.xlsx')"
      ],
      "metadata": {
        "id": "OT5R28sx2rM2"
      },
      "execution_count": 2,
      "outputs": []
    },
    {
      "cell_type": "code",
      "source": [
        "food.head(3)"
      ],
      "metadata": {
        "colab": {
          "base_uri": "https://localhost:8080/",
          "height": 442
        },
        "id": "AAa2Zf7bvqr7",
        "outputId": "b568a4ab-43ee-443a-aeef-5d823b375967"
      },
      "execution_count": 3,
      "outputs": [
        {
          "output_type": "execute_result",
          "data": {
            "text/plain": [
              "  NO       SAMPLE_ID     식품코드 DB군  상용제품   식품명    연도 지역 / 제조사 채취시기 식품대분류  ...  \\\n",
              "0  1  D000006-94-AVG  D000006  음식  품목대표  꿩불고기  2019       충주   평균   구이류  ...   \n",
              "1  2  D000007-ZZ-AVG  D000007  음식  품목대표   닭갈비  2019   전국(대표)   평균   구이류  ...   \n",
              "2  3  D000008-66-AVG  D000008  음식  품목대표   닭갈비  2019       춘천   평균   구이류  ...   \n",
              "\n",
              "  도코사펜타에노산(22:5(n-3))(g)  도코사헥사에노산(22:6(n-3))(g) 트랜스 지방산(g)  \\\n",
              "0                      0                    0.02        0.1   \n",
              "1                   0.02                    0.01        0.2   \n",
              "2                   0.02                    0.02        0.3   \n",
              "\n",
              "  트랜스 올레산(18:1(n-9)t)(g) 트랜스 리놀레산(18:2t)(g) 트랜스 리놀렌산(18:3t)(g) 회분(g) 카페인(㎎)  \\\n",
              "0                   0.02               0.05                  0   5.8      -   \n",
              "1                   0.08               0.06               0.01     7      -   \n",
              "2                   0.14               0.08               0.03   4.5      -   \n",
              "\n",
              "                       성분표출처      발행기관  \n",
              "0  외식영양성분자료집 통합본(2012-2017년)  식품의약품안전처  \n",
              "1  외식영양성분자료집 통합본(2012-2017년)  식품의약품안전처  \n",
              "2  외식영양성분자료집 통합본(2012-2017년)  식품의약품안전처  \n",
              "\n",
              "[3 rows x 100 columns]"
            ],
            "text/html": [
              "\n",
              "  <div id=\"df-fd4e5bc0-e69d-4828-829e-bb347fec2afb\">\n",
              "    <div class=\"colab-df-container\">\n",
              "      <div>\n",
              "<style scoped>\n",
              "    .dataframe tbody tr th:only-of-type {\n",
              "        vertical-align: middle;\n",
              "    }\n",
              "\n",
              "    .dataframe tbody tr th {\n",
              "        vertical-align: top;\n",
              "    }\n",
              "\n",
              "    .dataframe thead th {\n",
              "        text-align: right;\n",
              "    }\n",
              "</style>\n",
              "<table border=\"1\" class=\"dataframe\">\n",
              "  <thead>\n",
              "    <tr style=\"text-align: right;\">\n",
              "      <th></th>\n",
              "      <th>NO</th>\n",
              "      <th>SAMPLE_ID</th>\n",
              "      <th>식품코드</th>\n",
              "      <th>DB군</th>\n",
              "      <th>상용제품</th>\n",
              "      <th>식품명</th>\n",
              "      <th>연도</th>\n",
              "      <th>지역 / 제조사</th>\n",
              "      <th>채취시기</th>\n",
              "      <th>식품대분류</th>\n",
              "      <th>...</th>\n",
              "      <th>도코사펜타에노산(22:5(n-3))(g)</th>\n",
              "      <th>도코사헥사에노산(22:6(n-3))(g)</th>\n",
              "      <th>트랜스 지방산(g)</th>\n",
              "      <th>트랜스 올레산(18:1(n-9)t)(g)</th>\n",
              "      <th>트랜스 리놀레산(18:2t)(g)</th>\n",
              "      <th>트랜스 리놀렌산(18:3t)(g)</th>\n",
              "      <th>회분(g)</th>\n",
              "      <th>카페인(㎎)</th>\n",
              "      <th>성분표출처</th>\n",
              "      <th>발행기관</th>\n",
              "    </tr>\n",
              "  </thead>\n",
              "  <tbody>\n",
              "    <tr>\n",
              "      <th>0</th>\n",
              "      <td>1</td>\n",
              "      <td>D000006-94-AVG</td>\n",
              "      <td>D000006</td>\n",
              "      <td>음식</td>\n",
              "      <td>품목대표</td>\n",
              "      <td>꿩불고기</td>\n",
              "      <td>2019</td>\n",
              "      <td>충주</td>\n",
              "      <td>평균</td>\n",
              "      <td>구이류</td>\n",
              "      <td>...</td>\n",
              "      <td>0</td>\n",
              "      <td>0.02</td>\n",
              "      <td>0.1</td>\n",
              "      <td>0.02</td>\n",
              "      <td>0.05</td>\n",
              "      <td>0</td>\n",
              "      <td>5.8</td>\n",
              "      <td>-</td>\n",
              "      <td>외식영양성분자료집 통합본(2012-2017년)</td>\n",
              "      <td>식품의약품안전처</td>\n",
              "    </tr>\n",
              "    <tr>\n",
              "      <th>1</th>\n",
              "      <td>2</td>\n",
              "      <td>D000007-ZZ-AVG</td>\n",
              "      <td>D000007</td>\n",
              "      <td>음식</td>\n",
              "      <td>품목대표</td>\n",
              "      <td>닭갈비</td>\n",
              "      <td>2019</td>\n",
              "      <td>전국(대표)</td>\n",
              "      <td>평균</td>\n",
              "      <td>구이류</td>\n",
              "      <td>...</td>\n",
              "      <td>0.02</td>\n",
              "      <td>0.01</td>\n",
              "      <td>0.2</td>\n",
              "      <td>0.08</td>\n",
              "      <td>0.06</td>\n",
              "      <td>0.01</td>\n",
              "      <td>7</td>\n",
              "      <td>-</td>\n",
              "      <td>외식영양성분자료집 통합본(2012-2017년)</td>\n",
              "      <td>식품의약품안전처</td>\n",
              "    </tr>\n",
              "    <tr>\n",
              "      <th>2</th>\n",
              "      <td>3</td>\n",
              "      <td>D000008-66-AVG</td>\n",
              "      <td>D000008</td>\n",
              "      <td>음식</td>\n",
              "      <td>품목대표</td>\n",
              "      <td>닭갈비</td>\n",
              "      <td>2019</td>\n",
              "      <td>춘천</td>\n",
              "      <td>평균</td>\n",
              "      <td>구이류</td>\n",
              "      <td>...</td>\n",
              "      <td>0.02</td>\n",
              "      <td>0.02</td>\n",
              "      <td>0.3</td>\n",
              "      <td>0.14</td>\n",
              "      <td>0.08</td>\n",
              "      <td>0.03</td>\n",
              "      <td>4.5</td>\n",
              "      <td>-</td>\n",
              "      <td>외식영양성분자료집 통합본(2012-2017년)</td>\n",
              "      <td>식품의약품안전처</td>\n",
              "    </tr>\n",
              "  </tbody>\n",
              "</table>\n",
              "<p>3 rows × 100 columns</p>\n",
              "</div>\n",
              "      <button class=\"colab-df-convert\" onclick=\"convertToInteractive('df-fd4e5bc0-e69d-4828-829e-bb347fec2afb')\"\n",
              "              title=\"Convert this dataframe to an interactive table.\"\n",
              "              style=\"display:none;\">\n",
              "        \n",
              "  <svg xmlns=\"http://www.w3.org/2000/svg\" height=\"24px\"viewBox=\"0 0 24 24\"\n",
              "       width=\"24px\">\n",
              "    <path d=\"M0 0h24v24H0V0z\" fill=\"none\"/>\n",
              "    <path d=\"M18.56 5.44l.94 2.06.94-2.06 2.06-.94-2.06-.94-.94-2.06-.94 2.06-2.06.94zm-11 1L8.5 8.5l.94-2.06 2.06-.94-2.06-.94L8.5 2.5l-.94 2.06-2.06.94zm10 10l.94 2.06.94-2.06 2.06-.94-2.06-.94-.94-2.06-.94 2.06-2.06.94z\"/><path d=\"M17.41 7.96l-1.37-1.37c-.4-.4-.92-.59-1.43-.59-.52 0-1.04.2-1.43.59L10.3 9.45l-7.72 7.72c-.78.78-.78 2.05 0 2.83L4 21.41c.39.39.9.59 1.41.59.51 0 1.02-.2 1.41-.59l7.78-7.78 2.81-2.81c.8-.78.8-2.07 0-2.86zM5.41 20L4 18.59l7.72-7.72 1.47 1.35L5.41 20z\"/>\n",
              "  </svg>\n",
              "      </button>\n",
              "      \n",
              "  <style>\n",
              "    .colab-df-container {\n",
              "      display:flex;\n",
              "      flex-wrap:wrap;\n",
              "      gap: 12px;\n",
              "    }\n",
              "\n",
              "    .colab-df-convert {\n",
              "      background-color: #E8F0FE;\n",
              "      border: none;\n",
              "      border-radius: 50%;\n",
              "      cursor: pointer;\n",
              "      display: none;\n",
              "      fill: #1967D2;\n",
              "      height: 32px;\n",
              "      padding: 0 0 0 0;\n",
              "      width: 32px;\n",
              "    }\n",
              "\n",
              "    .colab-df-convert:hover {\n",
              "      background-color: #E2EBFA;\n",
              "      box-shadow: 0px 1px 2px rgba(60, 64, 67, 0.3), 0px 1px 3px 1px rgba(60, 64, 67, 0.15);\n",
              "      fill: #174EA6;\n",
              "    }\n",
              "\n",
              "    [theme=dark] .colab-df-convert {\n",
              "      background-color: #3B4455;\n",
              "      fill: #D2E3FC;\n",
              "    }\n",
              "\n",
              "    [theme=dark] .colab-df-convert:hover {\n",
              "      background-color: #434B5C;\n",
              "      box-shadow: 0px 1px 3px 1px rgba(0, 0, 0, 0.15);\n",
              "      filter: drop-shadow(0px 1px 2px rgba(0, 0, 0, 0.3));\n",
              "      fill: #FFFFFF;\n",
              "    }\n",
              "  </style>\n",
              "\n",
              "      <script>\n",
              "        const buttonEl =\n",
              "          document.querySelector('#df-fd4e5bc0-e69d-4828-829e-bb347fec2afb button.colab-df-convert');\n",
              "        buttonEl.style.display =\n",
              "          google.colab.kernel.accessAllowed ? 'block' : 'none';\n",
              "\n",
              "        async function convertToInteractive(key) {\n",
              "          const element = document.querySelector('#df-fd4e5bc0-e69d-4828-829e-bb347fec2afb');\n",
              "          const dataTable =\n",
              "            await google.colab.kernel.invokeFunction('convertToInteractive',\n",
              "                                                     [key], {});\n",
              "          if (!dataTable) return;\n",
              "\n",
              "          const docLinkHtml = 'Like what you see? Visit the ' +\n",
              "            '<a target=\"_blank\" href=https://colab.research.google.com/notebooks/data_table.ipynb>data table notebook</a>'\n",
              "            + ' to learn more about interactive tables.';\n",
              "          element.innerHTML = '';\n",
              "          dataTable['output_type'] = 'display_data';\n",
              "          await google.colab.output.renderOutput(dataTable, element);\n",
              "          const docLink = document.createElement('div');\n",
              "          docLink.innerHTML = docLinkHtml;\n",
              "          element.appendChild(docLink);\n",
              "        }\n",
              "      </script>\n",
              "    </div>\n",
              "  </div>\n",
              "  "
            ]
          },
          "metadata": {},
          "execution_count": 3
        }
      ]
    },
    {
      "cell_type": "code",
      "source": [
        "food_data = food[['식품명', '식품대분류', '식품상세분류', '1회제공량','총내용량(g)',\n",
        "                  '총내용량(mL)', '에너지(㎉)', '단백질(g)', '지방(g)', '탄수화물(g)',\n",
        "                  '총당류(g)', '콜레스테롤(㎎)', '총 포화 지방산(g)', '트랜스 지방산(g)']]"
      ],
      "metadata": {
        "id": "MYO0DT6HzqX2"
      },
      "execution_count": 4,
      "outputs": []
    },
    {
      "cell_type": "code",
      "source": [
        "food_data.head(3)"
      ],
      "metadata": {
        "colab": {
          "base_uri": "https://localhost:8080/",
          "height": 143
        },
        "id": "QJ-3X2lDBk4T",
        "outputId": "a670b0dc-6e9a-45d6-e852-4aba4fbb0c4c"
      },
      "execution_count": 5,
      "outputs": [
        {
          "output_type": "execute_result",
          "data": {
            "text/plain": [
              "    식품명 식품대분류 식품상세분류  1회제공량 총내용량(g) 총내용량(mL)  에너지(㎉) 단백질(g) 지방(g) 탄수화물(g)  \\\n",
              "0  꿩불고기   구이류   육류구이    500       -        -   368.8   33.5   8.5    39.7   \n",
              "1   닭갈비   구이류   육류구이    400       -        -  595.61   45.9  25.8    44.9   \n",
              "2   닭갈비   구이류   육류구이    300       -        -  558.47   45.5  31.6    23.1   \n",
              "\n",
              "  총당류(g) 콜레스테롤(㎎) 총 포화 지방산(g) 트랜스 지방산(g)  \n",
              "0   16.9   106.18         1.9        0.1  \n",
              "1   21.2    193.4           6        0.2  \n",
              "2    8.5   217.67        11.3        0.3  "
            ],
            "text/html": [
              "\n",
              "  <div id=\"df-1da6dbd4-d884-4d81-87d0-9c59da1d0ad0\">\n",
              "    <div class=\"colab-df-container\">\n",
              "      <div>\n",
              "<style scoped>\n",
              "    .dataframe tbody tr th:only-of-type {\n",
              "        vertical-align: middle;\n",
              "    }\n",
              "\n",
              "    .dataframe tbody tr th {\n",
              "        vertical-align: top;\n",
              "    }\n",
              "\n",
              "    .dataframe thead th {\n",
              "        text-align: right;\n",
              "    }\n",
              "</style>\n",
              "<table border=\"1\" class=\"dataframe\">\n",
              "  <thead>\n",
              "    <tr style=\"text-align: right;\">\n",
              "      <th></th>\n",
              "      <th>식품명</th>\n",
              "      <th>식품대분류</th>\n",
              "      <th>식품상세분류</th>\n",
              "      <th>1회제공량</th>\n",
              "      <th>총내용량(g)</th>\n",
              "      <th>총내용량(mL)</th>\n",
              "      <th>에너지(㎉)</th>\n",
              "      <th>단백질(g)</th>\n",
              "      <th>지방(g)</th>\n",
              "      <th>탄수화물(g)</th>\n",
              "      <th>총당류(g)</th>\n",
              "      <th>콜레스테롤(㎎)</th>\n",
              "      <th>총 포화 지방산(g)</th>\n",
              "      <th>트랜스 지방산(g)</th>\n",
              "    </tr>\n",
              "  </thead>\n",
              "  <tbody>\n",
              "    <tr>\n",
              "      <th>0</th>\n",
              "      <td>꿩불고기</td>\n",
              "      <td>구이류</td>\n",
              "      <td>육류구이</td>\n",
              "      <td>500</td>\n",
              "      <td>-</td>\n",
              "      <td>-</td>\n",
              "      <td>368.8</td>\n",
              "      <td>33.5</td>\n",
              "      <td>8.5</td>\n",
              "      <td>39.7</td>\n",
              "      <td>16.9</td>\n",
              "      <td>106.18</td>\n",
              "      <td>1.9</td>\n",
              "      <td>0.1</td>\n",
              "    </tr>\n",
              "    <tr>\n",
              "      <th>1</th>\n",
              "      <td>닭갈비</td>\n",
              "      <td>구이류</td>\n",
              "      <td>육류구이</td>\n",
              "      <td>400</td>\n",
              "      <td>-</td>\n",
              "      <td>-</td>\n",
              "      <td>595.61</td>\n",
              "      <td>45.9</td>\n",
              "      <td>25.8</td>\n",
              "      <td>44.9</td>\n",
              "      <td>21.2</td>\n",
              "      <td>193.4</td>\n",
              "      <td>6</td>\n",
              "      <td>0.2</td>\n",
              "    </tr>\n",
              "    <tr>\n",
              "      <th>2</th>\n",
              "      <td>닭갈비</td>\n",
              "      <td>구이류</td>\n",
              "      <td>육류구이</td>\n",
              "      <td>300</td>\n",
              "      <td>-</td>\n",
              "      <td>-</td>\n",
              "      <td>558.47</td>\n",
              "      <td>45.5</td>\n",
              "      <td>31.6</td>\n",
              "      <td>23.1</td>\n",
              "      <td>8.5</td>\n",
              "      <td>217.67</td>\n",
              "      <td>11.3</td>\n",
              "      <td>0.3</td>\n",
              "    </tr>\n",
              "  </tbody>\n",
              "</table>\n",
              "</div>\n",
              "      <button class=\"colab-df-convert\" onclick=\"convertToInteractive('df-1da6dbd4-d884-4d81-87d0-9c59da1d0ad0')\"\n",
              "              title=\"Convert this dataframe to an interactive table.\"\n",
              "              style=\"display:none;\">\n",
              "        \n",
              "  <svg xmlns=\"http://www.w3.org/2000/svg\" height=\"24px\"viewBox=\"0 0 24 24\"\n",
              "       width=\"24px\">\n",
              "    <path d=\"M0 0h24v24H0V0z\" fill=\"none\"/>\n",
              "    <path d=\"M18.56 5.44l.94 2.06.94-2.06 2.06-.94-2.06-.94-.94-2.06-.94 2.06-2.06.94zm-11 1L8.5 8.5l.94-2.06 2.06-.94-2.06-.94L8.5 2.5l-.94 2.06-2.06.94zm10 10l.94 2.06.94-2.06 2.06-.94-2.06-.94-.94-2.06-.94 2.06-2.06.94z\"/><path d=\"M17.41 7.96l-1.37-1.37c-.4-.4-.92-.59-1.43-.59-.52 0-1.04.2-1.43.59L10.3 9.45l-7.72 7.72c-.78.78-.78 2.05 0 2.83L4 21.41c.39.39.9.59 1.41.59.51 0 1.02-.2 1.41-.59l7.78-7.78 2.81-2.81c.8-.78.8-2.07 0-2.86zM5.41 20L4 18.59l7.72-7.72 1.47 1.35L5.41 20z\"/>\n",
              "  </svg>\n",
              "      </button>\n",
              "      \n",
              "  <style>\n",
              "    .colab-df-container {\n",
              "      display:flex;\n",
              "      flex-wrap:wrap;\n",
              "      gap: 12px;\n",
              "    }\n",
              "\n",
              "    .colab-df-convert {\n",
              "      background-color: #E8F0FE;\n",
              "      border: none;\n",
              "      border-radius: 50%;\n",
              "      cursor: pointer;\n",
              "      display: none;\n",
              "      fill: #1967D2;\n",
              "      height: 32px;\n",
              "      padding: 0 0 0 0;\n",
              "      width: 32px;\n",
              "    }\n",
              "\n",
              "    .colab-df-convert:hover {\n",
              "      background-color: #E2EBFA;\n",
              "      box-shadow: 0px 1px 2px rgba(60, 64, 67, 0.3), 0px 1px 3px 1px rgba(60, 64, 67, 0.15);\n",
              "      fill: #174EA6;\n",
              "    }\n",
              "\n",
              "    [theme=dark] .colab-df-convert {\n",
              "      background-color: #3B4455;\n",
              "      fill: #D2E3FC;\n",
              "    }\n",
              "\n",
              "    [theme=dark] .colab-df-convert:hover {\n",
              "      background-color: #434B5C;\n",
              "      box-shadow: 0px 1px 3px 1px rgba(0, 0, 0, 0.15);\n",
              "      filter: drop-shadow(0px 1px 2px rgba(0, 0, 0, 0.3));\n",
              "      fill: #FFFFFF;\n",
              "    }\n",
              "  </style>\n",
              "\n",
              "      <script>\n",
              "        const buttonEl =\n",
              "          document.querySelector('#df-1da6dbd4-d884-4d81-87d0-9c59da1d0ad0 button.colab-df-convert');\n",
              "        buttonEl.style.display =\n",
              "          google.colab.kernel.accessAllowed ? 'block' : 'none';\n",
              "\n",
              "        async function convertToInteractive(key) {\n",
              "          const element = document.querySelector('#df-1da6dbd4-d884-4d81-87d0-9c59da1d0ad0');\n",
              "          const dataTable =\n",
              "            await google.colab.kernel.invokeFunction('convertToInteractive',\n",
              "                                                     [key], {});\n",
              "          if (!dataTable) return;\n",
              "\n",
              "          const docLinkHtml = 'Like what you see? Visit the ' +\n",
              "            '<a target=\"_blank\" href=https://colab.research.google.com/notebooks/data_table.ipynb>data table notebook</a>'\n",
              "            + ' to learn more about interactive tables.';\n",
              "          element.innerHTML = '';\n",
              "          dataTable['output_type'] = 'display_data';\n",
              "          await google.colab.output.renderOutput(dataTable, element);\n",
              "          const docLink = document.createElement('div');\n",
              "          docLink.innerHTML = docLinkHtml;\n",
              "          element.appendChild(docLink);\n",
              "        }\n",
              "      </script>\n",
              "    </div>\n",
              "  </div>\n",
              "  "
            ]
          },
          "metadata": {},
          "execution_count": 5
        }
      ]
    },
    {
      "cell_type": "code",
      "source": [
        "food_data.loc[food_data['총내용량(g)'] == '-', '총내용량(g)'] = 0\n",
        "food_data.loc[food_data['총내용량(mL)'] == '-', '총내용량(mL)'] = 0"
      ],
      "metadata": {
        "id": "ZeKWdnxnG5SB"
      },
      "execution_count": 6,
      "outputs": []
    },
    {
      "cell_type": "code",
      "source": [
        "food_data.head(3)"
      ],
      "metadata": {
        "colab": {
          "base_uri": "https://localhost:8080/",
          "height": 143
        },
        "id": "OjWLzn-tI-vW",
        "outputId": "1810c02d-6c9e-4ad5-a56e-12be53e08c13"
      },
      "execution_count": 7,
      "outputs": [
        {
          "output_type": "execute_result",
          "data": {
            "text/plain": [
              "    식품명 식품대분류 식품상세분류  1회제공량 총내용량(g) 총내용량(mL)  에너지(㎉) 단백질(g) 지방(g) 탄수화물(g)  \\\n",
              "0  꿩불고기   구이류   육류구이    500       0        0   368.8   33.5   8.5    39.7   \n",
              "1   닭갈비   구이류   육류구이    400       0        0  595.61   45.9  25.8    44.9   \n",
              "2   닭갈비   구이류   육류구이    300       0        0  558.47   45.5  31.6    23.1   \n",
              "\n",
              "  총당류(g) 콜레스테롤(㎎) 총 포화 지방산(g) 트랜스 지방산(g)  \n",
              "0   16.9   106.18         1.9        0.1  \n",
              "1   21.2    193.4           6        0.2  \n",
              "2    8.5   217.67        11.3        0.3  "
            ],
            "text/html": [
              "\n",
              "  <div id=\"df-3139f25a-c113-42a4-b337-f9e04f82bf49\">\n",
              "    <div class=\"colab-df-container\">\n",
              "      <div>\n",
              "<style scoped>\n",
              "    .dataframe tbody tr th:only-of-type {\n",
              "        vertical-align: middle;\n",
              "    }\n",
              "\n",
              "    .dataframe tbody tr th {\n",
              "        vertical-align: top;\n",
              "    }\n",
              "\n",
              "    .dataframe thead th {\n",
              "        text-align: right;\n",
              "    }\n",
              "</style>\n",
              "<table border=\"1\" class=\"dataframe\">\n",
              "  <thead>\n",
              "    <tr style=\"text-align: right;\">\n",
              "      <th></th>\n",
              "      <th>식품명</th>\n",
              "      <th>식품대분류</th>\n",
              "      <th>식품상세분류</th>\n",
              "      <th>1회제공량</th>\n",
              "      <th>총내용량(g)</th>\n",
              "      <th>총내용량(mL)</th>\n",
              "      <th>에너지(㎉)</th>\n",
              "      <th>단백질(g)</th>\n",
              "      <th>지방(g)</th>\n",
              "      <th>탄수화물(g)</th>\n",
              "      <th>총당류(g)</th>\n",
              "      <th>콜레스테롤(㎎)</th>\n",
              "      <th>총 포화 지방산(g)</th>\n",
              "      <th>트랜스 지방산(g)</th>\n",
              "    </tr>\n",
              "  </thead>\n",
              "  <tbody>\n",
              "    <tr>\n",
              "      <th>0</th>\n",
              "      <td>꿩불고기</td>\n",
              "      <td>구이류</td>\n",
              "      <td>육류구이</td>\n",
              "      <td>500</td>\n",
              "      <td>0</td>\n",
              "      <td>0</td>\n",
              "      <td>368.8</td>\n",
              "      <td>33.5</td>\n",
              "      <td>8.5</td>\n",
              "      <td>39.7</td>\n",
              "      <td>16.9</td>\n",
              "      <td>106.18</td>\n",
              "      <td>1.9</td>\n",
              "      <td>0.1</td>\n",
              "    </tr>\n",
              "    <tr>\n",
              "      <th>1</th>\n",
              "      <td>닭갈비</td>\n",
              "      <td>구이류</td>\n",
              "      <td>육류구이</td>\n",
              "      <td>400</td>\n",
              "      <td>0</td>\n",
              "      <td>0</td>\n",
              "      <td>595.61</td>\n",
              "      <td>45.9</td>\n",
              "      <td>25.8</td>\n",
              "      <td>44.9</td>\n",
              "      <td>21.2</td>\n",
              "      <td>193.4</td>\n",
              "      <td>6</td>\n",
              "      <td>0.2</td>\n",
              "    </tr>\n",
              "    <tr>\n",
              "      <th>2</th>\n",
              "      <td>닭갈비</td>\n",
              "      <td>구이류</td>\n",
              "      <td>육류구이</td>\n",
              "      <td>300</td>\n",
              "      <td>0</td>\n",
              "      <td>0</td>\n",
              "      <td>558.47</td>\n",
              "      <td>45.5</td>\n",
              "      <td>31.6</td>\n",
              "      <td>23.1</td>\n",
              "      <td>8.5</td>\n",
              "      <td>217.67</td>\n",
              "      <td>11.3</td>\n",
              "      <td>0.3</td>\n",
              "    </tr>\n",
              "  </tbody>\n",
              "</table>\n",
              "</div>\n",
              "      <button class=\"colab-df-convert\" onclick=\"convertToInteractive('df-3139f25a-c113-42a4-b337-f9e04f82bf49')\"\n",
              "              title=\"Convert this dataframe to an interactive table.\"\n",
              "              style=\"display:none;\">\n",
              "        \n",
              "  <svg xmlns=\"http://www.w3.org/2000/svg\" height=\"24px\"viewBox=\"0 0 24 24\"\n",
              "       width=\"24px\">\n",
              "    <path d=\"M0 0h24v24H0V0z\" fill=\"none\"/>\n",
              "    <path d=\"M18.56 5.44l.94 2.06.94-2.06 2.06-.94-2.06-.94-.94-2.06-.94 2.06-2.06.94zm-11 1L8.5 8.5l.94-2.06 2.06-.94-2.06-.94L8.5 2.5l-.94 2.06-2.06.94zm10 10l.94 2.06.94-2.06 2.06-.94-2.06-.94-.94-2.06-.94 2.06-2.06.94z\"/><path d=\"M17.41 7.96l-1.37-1.37c-.4-.4-.92-.59-1.43-.59-.52 0-1.04.2-1.43.59L10.3 9.45l-7.72 7.72c-.78.78-.78 2.05 0 2.83L4 21.41c.39.39.9.59 1.41.59.51 0 1.02-.2 1.41-.59l7.78-7.78 2.81-2.81c.8-.78.8-2.07 0-2.86zM5.41 20L4 18.59l7.72-7.72 1.47 1.35L5.41 20z\"/>\n",
              "  </svg>\n",
              "      </button>\n",
              "      \n",
              "  <style>\n",
              "    .colab-df-container {\n",
              "      display:flex;\n",
              "      flex-wrap:wrap;\n",
              "      gap: 12px;\n",
              "    }\n",
              "\n",
              "    .colab-df-convert {\n",
              "      background-color: #E8F0FE;\n",
              "      border: none;\n",
              "      border-radius: 50%;\n",
              "      cursor: pointer;\n",
              "      display: none;\n",
              "      fill: #1967D2;\n",
              "      height: 32px;\n",
              "      padding: 0 0 0 0;\n",
              "      width: 32px;\n",
              "    }\n",
              "\n",
              "    .colab-df-convert:hover {\n",
              "      background-color: #E2EBFA;\n",
              "      box-shadow: 0px 1px 2px rgba(60, 64, 67, 0.3), 0px 1px 3px 1px rgba(60, 64, 67, 0.15);\n",
              "      fill: #174EA6;\n",
              "    }\n",
              "\n",
              "    [theme=dark] .colab-df-convert {\n",
              "      background-color: #3B4455;\n",
              "      fill: #D2E3FC;\n",
              "    }\n",
              "\n",
              "    [theme=dark] .colab-df-convert:hover {\n",
              "      background-color: #434B5C;\n",
              "      box-shadow: 0px 1px 3px 1px rgba(0, 0, 0, 0.15);\n",
              "      filter: drop-shadow(0px 1px 2px rgba(0, 0, 0, 0.3));\n",
              "      fill: #FFFFFF;\n",
              "    }\n",
              "  </style>\n",
              "\n",
              "      <script>\n",
              "        const buttonEl =\n",
              "          document.querySelector('#df-3139f25a-c113-42a4-b337-f9e04f82bf49 button.colab-df-convert');\n",
              "        buttonEl.style.display =\n",
              "          google.colab.kernel.accessAllowed ? 'block' : 'none';\n",
              "\n",
              "        async function convertToInteractive(key) {\n",
              "          const element = document.querySelector('#df-3139f25a-c113-42a4-b337-f9e04f82bf49');\n",
              "          const dataTable =\n",
              "            await google.colab.kernel.invokeFunction('convertToInteractive',\n",
              "                                                     [key], {});\n",
              "          if (!dataTable) return;\n",
              "\n",
              "          const docLinkHtml = 'Like what you see? Visit the ' +\n",
              "            '<a target=\"_blank\" href=https://colab.research.google.com/notebooks/data_table.ipynb>data table notebook</a>'\n",
              "            + ' to learn more about interactive tables.';\n",
              "          element.innerHTML = '';\n",
              "          dataTable['output_type'] = 'display_data';\n",
              "          await google.colab.output.renderOutput(dataTable, element);\n",
              "          const docLink = document.createElement('div');\n",
              "          docLink.innerHTML = docLinkHtml;\n",
              "          element.appendChild(docLink);\n",
              "        }\n",
              "      </script>\n",
              "    </div>\n",
              "  </div>\n",
              "  "
            ]
          },
          "metadata": {},
          "execution_count": 7
        }
      ]
    },
    {
      "cell_type": "code",
      "source": [
        "food_data['총 내용량'] = food_data['총내용량(g)'] + food_data['총내용량(mL)']"
      ],
      "metadata": {
        "colab": {
          "base_uri": "https://localhost:8080/"
        },
        "id": "9AhLx5ZvJd_k",
        "outputId": "41444605-38fc-4b2d-fc1f-145fa4f659ee"
      },
      "execution_count": 8,
      "outputs": [
        {
          "output_type": "stream",
          "name": "stderr",
          "text": [
            "<ipython-input-8-4dbbe4ee5951>:1: SettingWithCopyWarning: \n",
            "A value is trying to be set on a copy of a slice from a DataFrame.\n",
            "Try using .loc[row_indexer,col_indexer] = value instead\n",
            "\n",
            "See the caveats in the documentation: https://pandas.pydata.org/pandas-docs/stable/user_guide/indexing.html#returning-a-view-versus-a-copy\n",
            "  food_data['총 내용량'] = food_data['총내용량(g)'] + food_data['총내용량(mL)']\n"
          ]
        }
      ]
    },
    {
      "cell_type": "code",
      "source": [
        "food_data = food_data.drop(['총내용량(g)', '총내용량(mL)'], axis=1)"
      ],
      "metadata": {
        "id": "LosJ-OlpJ0XZ"
      },
      "execution_count": 9,
      "outputs": []
    },
    {
      "cell_type": "code",
      "source": [
        "food_data.head(3)"
      ],
      "metadata": {
        "colab": {
          "base_uri": "https://localhost:8080/",
          "height": 143
        },
        "id": "deYQnN-pKBFZ",
        "outputId": "e6dfb5a5-3792-4964-ea42-fa93108ba896"
      },
      "execution_count": 10,
      "outputs": [
        {
          "output_type": "execute_result",
          "data": {
            "text/plain": [
              "    식품명 식품대분류 식품상세분류  1회제공량  에너지(㎉) 단백질(g) 지방(g) 탄수화물(g) 총당류(g) 콜레스테롤(㎎)  \\\n",
              "0  꿩불고기   구이류   육류구이    500   368.8   33.5   8.5    39.7   16.9   106.18   \n",
              "1   닭갈비   구이류   육류구이    400  595.61   45.9  25.8    44.9   21.2    193.4   \n",
              "2   닭갈비   구이류   육류구이    300  558.47   45.5  31.6    23.1    8.5   217.67   \n",
              "\n",
              "  총 포화 지방산(g) 트랜스 지방산(g) 총 내용량  \n",
              "0         1.9        0.1     0  \n",
              "1           6        0.2     0  \n",
              "2        11.3        0.3     0  "
            ],
            "text/html": [
              "\n",
              "  <div id=\"df-ea782992-fddd-474e-bb7c-354203aa0c21\">\n",
              "    <div class=\"colab-df-container\">\n",
              "      <div>\n",
              "<style scoped>\n",
              "    .dataframe tbody tr th:only-of-type {\n",
              "        vertical-align: middle;\n",
              "    }\n",
              "\n",
              "    .dataframe tbody tr th {\n",
              "        vertical-align: top;\n",
              "    }\n",
              "\n",
              "    .dataframe thead th {\n",
              "        text-align: right;\n",
              "    }\n",
              "</style>\n",
              "<table border=\"1\" class=\"dataframe\">\n",
              "  <thead>\n",
              "    <tr style=\"text-align: right;\">\n",
              "      <th></th>\n",
              "      <th>식품명</th>\n",
              "      <th>식품대분류</th>\n",
              "      <th>식품상세분류</th>\n",
              "      <th>1회제공량</th>\n",
              "      <th>에너지(㎉)</th>\n",
              "      <th>단백질(g)</th>\n",
              "      <th>지방(g)</th>\n",
              "      <th>탄수화물(g)</th>\n",
              "      <th>총당류(g)</th>\n",
              "      <th>콜레스테롤(㎎)</th>\n",
              "      <th>총 포화 지방산(g)</th>\n",
              "      <th>트랜스 지방산(g)</th>\n",
              "      <th>총 내용량</th>\n",
              "    </tr>\n",
              "  </thead>\n",
              "  <tbody>\n",
              "    <tr>\n",
              "      <th>0</th>\n",
              "      <td>꿩불고기</td>\n",
              "      <td>구이류</td>\n",
              "      <td>육류구이</td>\n",
              "      <td>500</td>\n",
              "      <td>368.8</td>\n",
              "      <td>33.5</td>\n",
              "      <td>8.5</td>\n",
              "      <td>39.7</td>\n",
              "      <td>16.9</td>\n",
              "      <td>106.18</td>\n",
              "      <td>1.9</td>\n",
              "      <td>0.1</td>\n",
              "      <td>0</td>\n",
              "    </tr>\n",
              "    <tr>\n",
              "      <th>1</th>\n",
              "      <td>닭갈비</td>\n",
              "      <td>구이류</td>\n",
              "      <td>육류구이</td>\n",
              "      <td>400</td>\n",
              "      <td>595.61</td>\n",
              "      <td>45.9</td>\n",
              "      <td>25.8</td>\n",
              "      <td>44.9</td>\n",
              "      <td>21.2</td>\n",
              "      <td>193.4</td>\n",
              "      <td>6</td>\n",
              "      <td>0.2</td>\n",
              "      <td>0</td>\n",
              "    </tr>\n",
              "    <tr>\n",
              "      <th>2</th>\n",
              "      <td>닭갈비</td>\n",
              "      <td>구이류</td>\n",
              "      <td>육류구이</td>\n",
              "      <td>300</td>\n",
              "      <td>558.47</td>\n",
              "      <td>45.5</td>\n",
              "      <td>31.6</td>\n",
              "      <td>23.1</td>\n",
              "      <td>8.5</td>\n",
              "      <td>217.67</td>\n",
              "      <td>11.3</td>\n",
              "      <td>0.3</td>\n",
              "      <td>0</td>\n",
              "    </tr>\n",
              "  </tbody>\n",
              "</table>\n",
              "</div>\n",
              "      <button class=\"colab-df-convert\" onclick=\"convertToInteractive('df-ea782992-fddd-474e-bb7c-354203aa0c21')\"\n",
              "              title=\"Convert this dataframe to an interactive table.\"\n",
              "              style=\"display:none;\">\n",
              "        \n",
              "  <svg xmlns=\"http://www.w3.org/2000/svg\" height=\"24px\"viewBox=\"0 0 24 24\"\n",
              "       width=\"24px\">\n",
              "    <path d=\"M0 0h24v24H0V0z\" fill=\"none\"/>\n",
              "    <path d=\"M18.56 5.44l.94 2.06.94-2.06 2.06-.94-2.06-.94-.94-2.06-.94 2.06-2.06.94zm-11 1L8.5 8.5l.94-2.06 2.06-.94-2.06-.94L8.5 2.5l-.94 2.06-2.06.94zm10 10l.94 2.06.94-2.06 2.06-.94-2.06-.94-.94-2.06-.94 2.06-2.06.94z\"/><path d=\"M17.41 7.96l-1.37-1.37c-.4-.4-.92-.59-1.43-.59-.52 0-1.04.2-1.43.59L10.3 9.45l-7.72 7.72c-.78.78-.78 2.05 0 2.83L4 21.41c.39.39.9.59 1.41.59.51 0 1.02-.2 1.41-.59l7.78-7.78 2.81-2.81c.8-.78.8-2.07 0-2.86zM5.41 20L4 18.59l7.72-7.72 1.47 1.35L5.41 20z\"/>\n",
              "  </svg>\n",
              "      </button>\n",
              "      \n",
              "  <style>\n",
              "    .colab-df-container {\n",
              "      display:flex;\n",
              "      flex-wrap:wrap;\n",
              "      gap: 12px;\n",
              "    }\n",
              "\n",
              "    .colab-df-convert {\n",
              "      background-color: #E8F0FE;\n",
              "      border: none;\n",
              "      border-radius: 50%;\n",
              "      cursor: pointer;\n",
              "      display: none;\n",
              "      fill: #1967D2;\n",
              "      height: 32px;\n",
              "      padding: 0 0 0 0;\n",
              "      width: 32px;\n",
              "    }\n",
              "\n",
              "    .colab-df-convert:hover {\n",
              "      background-color: #E2EBFA;\n",
              "      box-shadow: 0px 1px 2px rgba(60, 64, 67, 0.3), 0px 1px 3px 1px rgba(60, 64, 67, 0.15);\n",
              "      fill: #174EA6;\n",
              "    }\n",
              "\n",
              "    [theme=dark] .colab-df-convert {\n",
              "      background-color: #3B4455;\n",
              "      fill: #D2E3FC;\n",
              "    }\n",
              "\n",
              "    [theme=dark] .colab-df-convert:hover {\n",
              "      background-color: #434B5C;\n",
              "      box-shadow: 0px 1px 3px 1px rgba(0, 0, 0, 0.15);\n",
              "      filter: drop-shadow(0px 1px 2px rgba(0, 0, 0, 0.3));\n",
              "      fill: #FFFFFF;\n",
              "    }\n",
              "  </style>\n",
              "\n",
              "      <script>\n",
              "        const buttonEl =\n",
              "          document.querySelector('#df-ea782992-fddd-474e-bb7c-354203aa0c21 button.colab-df-convert');\n",
              "        buttonEl.style.display =\n",
              "          google.colab.kernel.accessAllowed ? 'block' : 'none';\n",
              "\n",
              "        async function convertToInteractive(key) {\n",
              "          const element = document.querySelector('#df-ea782992-fddd-474e-bb7c-354203aa0c21');\n",
              "          const dataTable =\n",
              "            await google.colab.kernel.invokeFunction('convertToInteractive',\n",
              "                                                     [key], {});\n",
              "          if (!dataTable) return;\n",
              "\n",
              "          const docLinkHtml = 'Like what you see? Visit the ' +\n",
              "            '<a target=\"_blank\" href=https://colab.research.google.com/notebooks/data_table.ipynb>data table notebook</a>'\n",
              "            + ' to learn more about interactive tables.';\n",
              "          element.innerHTML = '';\n",
              "          dataTable['output_type'] = 'display_data';\n",
              "          await google.colab.output.renderOutput(dataTable, element);\n",
              "          const docLink = document.createElement('div');\n",
              "          docLink.innerHTML = docLinkHtml;\n",
              "          element.appendChild(docLink);\n",
              "        }\n",
              "      </script>\n",
              "    </div>\n",
              "  </div>\n",
              "  "
            ]
          },
          "metadata": {},
          "execution_count": 10
        }
      ]
    },
    {
      "cell_type": "code",
      "source": [
        "food_data['총 내용량'] = food_data['총 내용량'].astype('int64')"
      ],
      "metadata": {
        "id": "5G0wVkDcKCDX"
      },
      "execution_count": 11,
      "outputs": []
    },
    {
      "cell_type": "code",
      "source": [
        "food_data.head(3)"
      ],
      "metadata": {
        "colab": {
          "base_uri": "https://localhost:8080/",
          "height": 143
        },
        "id": "kUp0y0R-LUbk",
        "outputId": "90e98d50-d0ea-4568-a074-414b7e4540e7"
      },
      "execution_count": 12,
      "outputs": [
        {
          "output_type": "execute_result",
          "data": {
            "text/plain": [
              "    식품명 식품대분류 식품상세분류  1회제공량  에너지(㎉) 단백질(g) 지방(g) 탄수화물(g) 총당류(g) 콜레스테롤(㎎)  \\\n",
              "0  꿩불고기   구이류   육류구이    500   368.8   33.5   8.5    39.7   16.9   106.18   \n",
              "1   닭갈비   구이류   육류구이    400  595.61   45.9  25.8    44.9   21.2    193.4   \n",
              "2   닭갈비   구이류   육류구이    300  558.47   45.5  31.6    23.1    8.5   217.67   \n",
              "\n",
              "  총 포화 지방산(g) 트랜스 지방산(g)  총 내용량  \n",
              "0         1.9        0.1      0  \n",
              "1           6        0.2      0  \n",
              "2        11.3        0.3      0  "
            ],
            "text/html": [
              "\n",
              "  <div id=\"df-2f742fb0-4daa-4696-aee1-98c57b2f0075\">\n",
              "    <div class=\"colab-df-container\">\n",
              "      <div>\n",
              "<style scoped>\n",
              "    .dataframe tbody tr th:only-of-type {\n",
              "        vertical-align: middle;\n",
              "    }\n",
              "\n",
              "    .dataframe tbody tr th {\n",
              "        vertical-align: top;\n",
              "    }\n",
              "\n",
              "    .dataframe thead th {\n",
              "        text-align: right;\n",
              "    }\n",
              "</style>\n",
              "<table border=\"1\" class=\"dataframe\">\n",
              "  <thead>\n",
              "    <tr style=\"text-align: right;\">\n",
              "      <th></th>\n",
              "      <th>식품명</th>\n",
              "      <th>식품대분류</th>\n",
              "      <th>식품상세분류</th>\n",
              "      <th>1회제공량</th>\n",
              "      <th>에너지(㎉)</th>\n",
              "      <th>단백질(g)</th>\n",
              "      <th>지방(g)</th>\n",
              "      <th>탄수화물(g)</th>\n",
              "      <th>총당류(g)</th>\n",
              "      <th>콜레스테롤(㎎)</th>\n",
              "      <th>총 포화 지방산(g)</th>\n",
              "      <th>트랜스 지방산(g)</th>\n",
              "      <th>총 내용량</th>\n",
              "    </tr>\n",
              "  </thead>\n",
              "  <tbody>\n",
              "    <tr>\n",
              "      <th>0</th>\n",
              "      <td>꿩불고기</td>\n",
              "      <td>구이류</td>\n",
              "      <td>육류구이</td>\n",
              "      <td>500</td>\n",
              "      <td>368.8</td>\n",
              "      <td>33.5</td>\n",
              "      <td>8.5</td>\n",
              "      <td>39.7</td>\n",
              "      <td>16.9</td>\n",
              "      <td>106.18</td>\n",
              "      <td>1.9</td>\n",
              "      <td>0.1</td>\n",
              "      <td>0</td>\n",
              "    </tr>\n",
              "    <tr>\n",
              "      <th>1</th>\n",
              "      <td>닭갈비</td>\n",
              "      <td>구이류</td>\n",
              "      <td>육류구이</td>\n",
              "      <td>400</td>\n",
              "      <td>595.61</td>\n",
              "      <td>45.9</td>\n",
              "      <td>25.8</td>\n",
              "      <td>44.9</td>\n",
              "      <td>21.2</td>\n",
              "      <td>193.4</td>\n",
              "      <td>6</td>\n",
              "      <td>0.2</td>\n",
              "      <td>0</td>\n",
              "    </tr>\n",
              "    <tr>\n",
              "      <th>2</th>\n",
              "      <td>닭갈비</td>\n",
              "      <td>구이류</td>\n",
              "      <td>육류구이</td>\n",
              "      <td>300</td>\n",
              "      <td>558.47</td>\n",
              "      <td>45.5</td>\n",
              "      <td>31.6</td>\n",
              "      <td>23.1</td>\n",
              "      <td>8.5</td>\n",
              "      <td>217.67</td>\n",
              "      <td>11.3</td>\n",
              "      <td>0.3</td>\n",
              "      <td>0</td>\n",
              "    </tr>\n",
              "  </tbody>\n",
              "</table>\n",
              "</div>\n",
              "      <button class=\"colab-df-convert\" onclick=\"convertToInteractive('df-2f742fb0-4daa-4696-aee1-98c57b2f0075')\"\n",
              "              title=\"Convert this dataframe to an interactive table.\"\n",
              "              style=\"display:none;\">\n",
              "        \n",
              "  <svg xmlns=\"http://www.w3.org/2000/svg\" height=\"24px\"viewBox=\"0 0 24 24\"\n",
              "       width=\"24px\">\n",
              "    <path d=\"M0 0h24v24H0V0z\" fill=\"none\"/>\n",
              "    <path d=\"M18.56 5.44l.94 2.06.94-2.06 2.06-.94-2.06-.94-.94-2.06-.94 2.06-2.06.94zm-11 1L8.5 8.5l.94-2.06 2.06-.94-2.06-.94L8.5 2.5l-.94 2.06-2.06.94zm10 10l.94 2.06.94-2.06 2.06-.94-2.06-.94-.94-2.06-.94 2.06-2.06.94z\"/><path d=\"M17.41 7.96l-1.37-1.37c-.4-.4-.92-.59-1.43-.59-.52 0-1.04.2-1.43.59L10.3 9.45l-7.72 7.72c-.78.78-.78 2.05 0 2.83L4 21.41c.39.39.9.59 1.41.59.51 0 1.02-.2 1.41-.59l7.78-7.78 2.81-2.81c.8-.78.8-2.07 0-2.86zM5.41 20L4 18.59l7.72-7.72 1.47 1.35L5.41 20z\"/>\n",
              "  </svg>\n",
              "      </button>\n",
              "      \n",
              "  <style>\n",
              "    .colab-df-container {\n",
              "      display:flex;\n",
              "      flex-wrap:wrap;\n",
              "      gap: 12px;\n",
              "    }\n",
              "\n",
              "    .colab-df-convert {\n",
              "      background-color: #E8F0FE;\n",
              "      border: none;\n",
              "      border-radius: 50%;\n",
              "      cursor: pointer;\n",
              "      display: none;\n",
              "      fill: #1967D2;\n",
              "      height: 32px;\n",
              "      padding: 0 0 0 0;\n",
              "      width: 32px;\n",
              "    }\n",
              "\n",
              "    .colab-df-convert:hover {\n",
              "      background-color: #E2EBFA;\n",
              "      box-shadow: 0px 1px 2px rgba(60, 64, 67, 0.3), 0px 1px 3px 1px rgba(60, 64, 67, 0.15);\n",
              "      fill: #174EA6;\n",
              "    }\n",
              "\n",
              "    [theme=dark] .colab-df-convert {\n",
              "      background-color: #3B4455;\n",
              "      fill: #D2E3FC;\n",
              "    }\n",
              "\n",
              "    [theme=dark] .colab-df-convert:hover {\n",
              "      background-color: #434B5C;\n",
              "      box-shadow: 0px 1px 3px 1px rgba(0, 0, 0, 0.15);\n",
              "      filter: drop-shadow(0px 1px 2px rgba(0, 0, 0, 0.3));\n",
              "      fill: #FFFFFF;\n",
              "    }\n",
              "  </style>\n",
              "\n",
              "      <script>\n",
              "        const buttonEl =\n",
              "          document.querySelector('#df-2f742fb0-4daa-4696-aee1-98c57b2f0075 button.colab-df-convert');\n",
              "        buttonEl.style.display =\n",
              "          google.colab.kernel.accessAllowed ? 'block' : 'none';\n",
              "\n",
              "        async function convertToInteractive(key) {\n",
              "          const element = document.querySelector('#df-2f742fb0-4daa-4696-aee1-98c57b2f0075');\n",
              "          const dataTable =\n",
              "            await google.colab.kernel.invokeFunction('convertToInteractive',\n",
              "                                                     [key], {});\n",
              "          if (!dataTable) return;\n",
              "\n",
              "          const docLinkHtml = 'Like what you see? Visit the ' +\n",
              "            '<a target=\"_blank\" href=https://colab.research.google.com/notebooks/data_table.ipynb>data table notebook</a>'\n",
              "            + ' to learn more about interactive tables.';\n",
              "          element.innerHTML = '';\n",
              "          dataTable['output_type'] = 'display_data';\n",
              "          await google.colab.output.renderOutput(dataTable, element);\n",
              "          const docLink = document.createElement('div');\n",
              "          docLink.innerHTML = docLinkHtml;\n",
              "          element.appendChild(docLink);\n",
              "        }\n",
              "      </script>\n",
              "    </div>\n",
              "  </div>\n",
              "  "
            ]
          },
          "metadata": {},
          "execution_count": 12
        }
      ]
    },
    {
      "cell_type": "code",
      "source": [
        "from sklearn.preprocessing import LabelEncoder\n",
        "\n",
        "columns = ['식품대분류', '식품상세분류']\n",
        "\n",
        "for column in columns:\n",
        "  le = LabelEncoder()\n",
        "  food_data[column] = le.fit_transform(food_data[column].values)"
      ],
      "metadata": {
        "id": "OvkwSZV4L0nc"
      },
      "execution_count": 13,
      "outputs": []
    },
    {
      "cell_type": "code",
      "source": [
        "food_data.head(3)"
      ],
      "metadata": {
        "colab": {
          "base_uri": "https://localhost:8080/",
          "height": 143
        },
        "id": "PBTDEYFVMVGh",
        "outputId": "40ff1c66-4800-4732-cf44-231a40569beb"
      },
      "execution_count": 14,
      "outputs": [
        {
          "output_type": "execute_result",
          "data": {
            "text/plain": [
              "    식품명  식품대분류  식품상세분류  1회제공량  에너지(㎉) 단백질(g) 지방(g) 탄수화물(g) 총당류(g) 콜레스테롤(㎎)  \\\n",
              "0  꿩불고기      2      54    500   368.8   33.5   8.5    39.7   16.9   106.18   \n",
              "1   닭갈비      2      54    400  595.61   45.9  25.8    44.9   21.2    193.4   \n",
              "2   닭갈비      2      54    300  558.47   45.5  31.6    23.1    8.5   217.67   \n",
              "\n",
              "  총 포화 지방산(g) 트랜스 지방산(g)  총 내용량  \n",
              "0         1.9        0.1      0  \n",
              "1           6        0.2      0  \n",
              "2        11.3        0.3      0  "
            ],
            "text/html": [
              "\n",
              "  <div id=\"df-12c48afa-8047-431f-92f0-4f02cbe8d444\">\n",
              "    <div class=\"colab-df-container\">\n",
              "      <div>\n",
              "<style scoped>\n",
              "    .dataframe tbody tr th:only-of-type {\n",
              "        vertical-align: middle;\n",
              "    }\n",
              "\n",
              "    .dataframe tbody tr th {\n",
              "        vertical-align: top;\n",
              "    }\n",
              "\n",
              "    .dataframe thead th {\n",
              "        text-align: right;\n",
              "    }\n",
              "</style>\n",
              "<table border=\"1\" class=\"dataframe\">\n",
              "  <thead>\n",
              "    <tr style=\"text-align: right;\">\n",
              "      <th></th>\n",
              "      <th>식품명</th>\n",
              "      <th>식품대분류</th>\n",
              "      <th>식품상세분류</th>\n",
              "      <th>1회제공량</th>\n",
              "      <th>에너지(㎉)</th>\n",
              "      <th>단백질(g)</th>\n",
              "      <th>지방(g)</th>\n",
              "      <th>탄수화물(g)</th>\n",
              "      <th>총당류(g)</th>\n",
              "      <th>콜레스테롤(㎎)</th>\n",
              "      <th>총 포화 지방산(g)</th>\n",
              "      <th>트랜스 지방산(g)</th>\n",
              "      <th>총 내용량</th>\n",
              "    </tr>\n",
              "  </thead>\n",
              "  <tbody>\n",
              "    <tr>\n",
              "      <th>0</th>\n",
              "      <td>꿩불고기</td>\n",
              "      <td>2</td>\n",
              "      <td>54</td>\n",
              "      <td>500</td>\n",
              "      <td>368.8</td>\n",
              "      <td>33.5</td>\n",
              "      <td>8.5</td>\n",
              "      <td>39.7</td>\n",
              "      <td>16.9</td>\n",
              "      <td>106.18</td>\n",
              "      <td>1.9</td>\n",
              "      <td>0.1</td>\n",
              "      <td>0</td>\n",
              "    </tr>\n",
              "    <tr>\n",
              "      <th>1</th>\n",
              "      <td>닭갈비</td>\n",
              "      <td>2</td>\n",
              "      <td>54</td>\n",
              "      <td>400</td>\n",
              "      <td>595.61</td>\n",
              "      <td>45.9</td>\n",
              "      <td>25.8</td>\n",
              "      <td>44.9</td>\n",
              "      <td>21.2</td>\n",
              "      <td>193.4</td>\n",
              "      <td>6</td>\n",
              "      <td>0.2</td>\n",
              "      <td>0</td>\n",
              "    </tr>\n",
              "    <tr>\n",
              "      <th>2</th>\n",
              "      <td>닭갈비</td>\n",
              "      <td>2</td>\n",
              "      <td>54</td>\n",
              "      <td>300</td>\n",
              "      <td>558.47</td>\n",
              "      <td>45.5</td>\n",
              "      <td>31.6</td>\n",
              "      <td>23.1</td>\n",
              "      <td>8.5</td>\n",
              "      <td>217.67</td>\n",
              "      <td>11.3</td>\n",
              "      <td>0.3</td>\n",
              "      <td>0</td>\n",
              "    </tr>\n",
              "  </tbody>\n",
              "</table>\n",
              "</div>\n",
              "      <button class=\"colab-df-convert\" onclick=\"convertToInteractive('df-12c48afa-8047-431f-92f0-4f02cbe8d444')\"\n",
              "              title=\"Convert this dataframe to an interactive table.\"\n",
              "              style=\"display:none;\">\n",
              "        \n",
              "  <svg xmlns=\"http://www.w3.org/2000/svg\" height=\"24px\"viewBox=\"0 0 24 24\"\n",
              "       width=\"24px\">\n",
              "    <path d=\"M0 0h24v24H0V0z\" fill=\"none\"/>\n",
              "    <path d=\"M18.56 5.44l.94 2.06.94-2.06 2.06-.94-2.06-.94-.94-2.06-.94 2.06-2.06.94zm-11 1L8.5 8.5l.94-2.06 2.06-.94-2.06-.94L8.5 2.5l-.94 2.06-2.06.94zm10 10l.94 2.06.94-2.06 2.06-.94-2.06-.94-.94-2.06-.94 2.06-2.06.94z\"/><path d=\"M17.41 7.96l-1.37-1.37c-.4-.4-.92-.59-1.43-.59-.52 0-1.04.2-1.43.59L10.3 9.45l-7.72 7.72c-.78.78-.78 2.05 0 2.83L4 21.41c.39.39.9.59 1.41.59.51 0 1.02-.2 1.41-.59l7.78-7.78 2.81-2.81c.8-.78.8-2.07 0-2.86zM5.41 20L4 18.59l7.72-7.72 1.47 1.35L5.41 20z\"/>\n",
              "  </svg>\n",
              "      </button>\n",
              "      \n",
              "  <style>\n",
              "    .colab-df-container {\n",
              "      display:flex;\n",
              "      flex-wrap:wrap;\n",
              "      gap: 12px;\n",
              "    }\n",
              "\n",
              "    .colab-df-convert {\n",
              "      background-color: #E8F0FE;\n",
              "      border: none;\n",
              "      border-radius: 50%;\n",
              "      cursor: pointer;\n",
              "      display: none;\n",
              "      fill: #1967D2;\n",
              "      height: 32px;\n",
              "      padding: 0 0 0 0;\n",
              "      width: 32px;\n",
              "    }\n",
              "\n",
              "    .colab-df-convert:hover {\n",
              "      background-color: #E2EBFA;\n",
              "      box-shadow: 0px 1px 2px rgba(60, 64, 67, 0.3), 0px 1px 3px 1px rgba(60, 64, 67, 0.15);\n",
              "      fill: #174EA6;\n",
              "    }\n",
              "\n",
              "    [theme=dark] .colab-df-convert {\n",
              "      background-color: #3B4455;\n",
              "      fill: #D2E3FC;\n",
              "    }\n",
              "\n",
              "    [theme=dark] .colab-df-convert:hover {\n",
              "      background-color: #434B5C;\n",
              "      box-shadow: 0px 1px 3px 1px rgba(0, 0, 0, 0.15);\n",
              "      filter: drop-shadow(0px 1px 2px rgba(0, 0, 0, 0.3));\n",
              "      fill: #FFFFFF;\n",
              "    }\n",
              "  </style>\n",
              "\n",
              "      <script>\n",
              "        const buttonEl =\n",
              "          document.querySelector('#df-12c48afa-8047-431f-92f0-4f02cbe8d444 button.colab-df-convert');\n",
              "        buttonEl.style.display =\n",
              "          google.colab.kernel.accessAllowed ? 'block' : 'none';\n",
              "\n",
              "        async function convertToInteractive(key) {\n",
              "          const element = document.querySelector('#df-12c48afa-8047-431f-92f0-4f02cbe8d444');\n",
              "          const dataTable =\n",
              "            await google.colab.kernel.invokeFunction('convertToInteractive',\n",
              "                                                     [key], {});\n",
              "          if (!dataTable) return;\n",
              "\n",
              "          const docLinkHtml = 'Like what you see? Visit the ' +\n",
              "            '<a target=\"_blank\" href=https://colab.research.google.com/notebooks/data_table.ipynb>data table notebook</a>'\n",
              "            + ' to learn more about interactive tables.';\n",
              "          element.innerHTML = '';\n",
              "          dataTable['output_type'] = 'display_data';\n",
              "          await google.colab.output.renderOutput(dataTable, element);\n",
              "          const docLink = document.createElement('div');\n",
              "          docLink.innerHTML = docLinkHtml;\n",
              "          element.appendChild(docLink);\n",
              "        }\n",
              "      </script>\n",
              "    </div>\n",
              "  </div>\n",
              "  "
            ]
          },
          "metadata": {},
          "execution_count": 14
        }
      ]
    },
    {
      "cell_type": "code",
      "source": [
        "food_data = food_data.replace('-', int('0'))"
      ],
      "metadata": {
        "id": "MFbLrkfwMWk9"
      },
      "execution_count": 15,
      "outputs": []
    },
    {
      "cell_type": "code",
      "source": [
        "food_data.head(3)"
      ],
      "metadata": {
        "colab": {
          "base_uri": "https://localhost:8080/",
          "height": 143
        },
        "id": "vqjdOwhSNrMf",
        "outputId": "703d40c1-58c2-4559-fec1-e5405f92afd8"
      },
      "execution_count": 16,
      "outputs": [
        {
          "output_type": "execute_result",
          "data": {
            "text/plain": [
              "    식품명  식품대분류  식품상세분류  1회제공량  에너지(㎉) 단백질(g)  지방(g) 탄수화물(g) 총당류(g)  콜레스테롤(㎎)  \\\n",
              "0  꿩불고기      2      54    500  368.80   33.5    8.5    39.7   16.9    106.18   \n",
              "1   닭갈비      2      54    400  595.61   45.9   25.8    44.9   21.2    193.40   \n",
              "2   닭갈비      2      54    300  558.47   45.5   31.6    23.1    8.5    217.67   \n",
              "\n",
              "   총 포화 지방산(g)  트랜스 지방산(g)  총 내용량  \n",
              "0          1.9         0.1      0  \n",
              "1          6.0         0.2      0  \n",
              "2         11.3         0.3      0  "
            ],
            "text/html": [
              "\n",
              "  <div id=\"df-a043bc07-0c92-4f8f-ba93-f32d8dbeb9cd\">\n",
              "    <div class=\"colab-df-container\">\n",
              "      <div>\n",
              "<style scoped>\n",
              "    .dataframe tbody tr th:only-of-type {\n",
              "        vertical-align: middle;\n",
              "    }\n",
              "\n",
              "    .dataframe tbody tr th {\n",
              "        vertical-align: top;\n",
              "    }\n",
              "\n",
              "    .dataframe thead th {\n",
              "        text-align: right;\n",
              "    }\n",
              "</style>\n",
              "<table border=\"1\" class=\"dataframe\">\n",
              "  <thead>\n",
              "    <tr style=\"text-align: right;\">\n",
              "      <th></th>\n",
              "      <th>식품명</th>\n",
              "      <th>식품대분류</th>\n",
              "      <th>식품상세분류</th>\n",
              "      <th>1회제공량</th>\n",
              "      <th>에너지(㎉)</th>\n",
              "      <th>단백질(g)</th>\n",
              "      <th>지방(g)</th>\n",
              "      <th>탄수화물(g)</th>\n",
              "      <th>총당류(g)</th>\n",
              "      <th>콜레스테롤(㎎)</th>\n",
              "      <th>총 포화 지방산(g)</th>\n",
              "      <th>트랜스 지방산(g)</th>\n",
              "      <th>총 내용량</th>\n",
              "    </tr>\n",
              "  </thead>\n",
              "  <tbody>\n",
              "    <tr>\n",
              "      <th>0</th>\n",
              "      <td>꿩불고기</td>\n",
              "      <td>2</td>\n",
              "      <td>54</td>\n",
              "      <td>500</td>\n",
              "      <td>368.80</td>\n",
              "      <td>33.5</td>\n",
              "      <td>8.5</td>\n",
              "      <td>39.7</td>\n",
              "      <td>16.9</td>\n",
              "      <td>106.18</td>\n",
              "      <td>1.9</td>\n",
              "      <td>0.1</td>\n",
              "      <td>0</td>\n",
              "    </tr>\n",
              "    <tr>\n",
              "      <th>1</th>\n",
              "      <td>닭갈비</td>\n",
              "      <td>2</td>\n",
              "      <td>54</td>\n",
              "      <td>400</td>\n",
              "      <td>595.61</td>\n",
              "      <td>45.9</td>\n",
              "      <td>25.8</td>\n",
              "      <td>44.9</td>\n",
              "      <td>21.2</td>\n",
              "      <td>193.40</td>\n",
              "      <td>6.0</td>\n",
              "      <td>0.2</td>\n",
              "      <td>0</td>\n",
              "    </tr>\n",
              "    <tr>\n",
              "      <th>2</th>\n",
              "      <td>닭갈비</td>\n",
              "      <td>2</td>\n",
              "      <td>54</td>\n",
              "      <td>300</td>\n",
              "      <td>558.47</td>\n",
              "      <td>45.5</td>\n",
              "      <td>31.6</td>\n",
              "      <td>23.1</td>\n",
              "      <td>8.5</td>\n",
              "      <td>217.67</td>\n",
              "      <td>11.3</td>\n",
              "      <td>0.3</td>\n",
              "      <td>0</td>\n",
              "    </tr>\n",
              "  </tbody>\n",
              "</table>\n",
              "</div>\n",
              "      <button class=\"colab-df-convert\" onclick=\"convertToInteractive('df-a043bc07-0c92-4f8f-ba93-f32d8dbeb9cd')\"\n",
              "              title=\"Convert this dataframe to an interactive table.\"\n",
              "              style=\"display:none;\">\n",
              "        \n",
              "  <svg xmlns=\"http://www.w3.org/2000/svg\" height=\"24px\"viewBox=\"0 0 24 24\"\n",
              "       width=\"24px\">\n",
              "    <path d=\"M0 0h24v24H0V0z\" fill=\"none\"/>\n",
              "    <path d=\"M18.56 5.44l.94 2.06.94-2.06 2.06-.94-2.06-.94-.94-2.06-.94 2.06-2.06.94zm-11 1L8.5 8.5l.94-2.06 2.06-.94-2.06-.94L8.5 2.5l-.94 2.06-2.06.94zm10 10l.94 2.06.94-2.06 2.06-.94-2.06-.94-.94-2.06-.94 2.06-2.06.94z\"/><path d=\"M17.41 7.96l-1.37-1.37c-.4-.4-.92-.59-1.43-.59-.52 0-1.04.2-1.43.59L10.3 9.45l-7.72 7.72c-.78.78-.78 2.05 0 2.83L4 21.41c.39.39.9.59 1.41.59.51 0 1.02-.2 1.41-.59l7.78-7.78 2.81-2.81c.8-.78.8-2.07 0-2.86zM5.41 20L4 18.59l7.72-7.72 1.47 1.35L5.41 20z\"/>\n",
              "  </svg>\n",
              "      </button>\n",
              "      \n",
              "  <style>\n",
              "    .colab-df-container {\n",
              "      display:flex;\n",
              "      flex-wrap:wrap;\n",
              "      gap: 12px;\n",
              "    }\n",
              "\n",
              "    .colab-df-convert {\n",
              "      background-color: #E8F0FE;\n",
              "      border: none;\n",
              "      border-radius: 50%;\n",
              "      cursor: pointer;\n",
              "      display: none;\n",
              "      fill: #1967D2;\n",
              "      height: 32px;\n",
              "      padding: 0 0 0 0;\n",
              "      width: 32px;\n",
              "    }\n",
              "\n",
              "    .colab-df-convert:hover {\n",
              "      background-color: #E2EBFA;\n",
              "      box-shadow: 0px 1px 2px rgba(60, 64, 67, 0.3), 0px 1px 3px 1px rgba(60, 64, 67, 0.15);\n",
              "      fill: #174EA6;\n",
              "    }\n",
              "\n",
              "    [theme=dark] .colab-df-convert {\n",
              "      background-color: #3B4455;\n",
              "      fill: #D2E3FC;\n",
              "    }\n",
              "\n",
              "    [theme=dark] .colab-df-convert:hover {\n",
              "      background-color: #434B5C;\n",
              "      box-shadow: 0px 1px 3px 1px rgba(0, 0, 0, 0.15);\n",
              "      filter: drop-shadow(0px 1px 2px rgba(0, 0, 0, 0.3));\n",
              "      fill: #FFFFFF;\n",
              "    }\n",
              "  </style>\n",
              "\n",
              "      <script>\n",
              "        const buttonEl =\n",
              "          document.querySelector('#df-a043bc07-0c92-4f8f-ba93-f32d8dbeb9cd button.colab-df-convert');\n",
              "        buttonEl.style.display =\n",
              "          google.colab.kernel.accessAllowed ? 'block' : 'none';\n",
              "\n",
              "        async function convertToInteractive(key) {\n",
              "          const element = document.querySelector('#df-a043bc07-0c92-4f8f-ba93-f32d8dbeb9cd');\n",
              "          const dataTable =\n",
              "            await google.colab.kernel.invokeFunction('convertToInteractive',\n",
              "                                                     [key], {});\n",
              "          if (!dataTable) return;\n",
              "\n",
              "          const docLinkHtml = 'Like what you see? Visit the ' +\n",
              "            '<a target=\"_blank\" href=https://colab.research.google.com/notebooks/data_table.ipynb>data table notebook</a>'\n",
              "            + ' to learn more about interactive tables.';\n",
              "          element.innerHTML = '';\n",
              "          dataTable['output_type'] = 'display_data';\n",
              "          await google.colab.output.renderOutput(dataTable, element);\n",
              "          const docLink = document.createElement('div');\n",
              "          docLink.innerHTML = docLinkHtml;\n",
              "          element.appendChild(docLink);\n",
              "        }\n",
              "      </script>\n",
              "    </div>\n",
              "  </div>\n",
              "  "
            ]
          },
          "metadata": {},
          "execution_count": 16
        }
      ]
    },
    {
      "cell_type": "code",
      "source": [
        "food_data = pd.DataFrame(food_data)\n",
        "food_data.loc[food_data['총 내용량']==0, '총 내용량'] = food_data['1회제공량']"
      ],
      "metadata": {
        "id": "ASsISNXvNsqB"
      },
      "execution_count": 17,
      "outputs": []
    },
    {
      "cell_type": "code",
      "source": [
        "food_data.head(3)"
      ],
      "metadata": {
        "colab": {
          "base_uri": "https://localhost:8080/",
          "height": 143
        },
        "id": "tiMceKb2QHz6",
        "outputId": "71999292-8d4d-441c-d530-f8b718bd851b"
      },
      "execution_count": 18,
      "outputs": [
        {
          "output_type": "execute_result",
          "data": {
            "text/plain": [
              "    식품명  식품대분류  식품상세분류  1회제공량  에너지(㎉) 단백질(g)  지방(g) 탄수화물(g) 총당류(g)  콜레스테롤(㎎)  \\\n",
              "0  꿩불고기      2      54    500  368.80   33.5    8.5    39.7   16.9    106.18   \n",
              "1   닭갈비      2      54    400  595.61   45.9   25.8    44.9   21.2    193.40   \n",
              "2   닭갈비      2      54    300  558.47   45.5   31.6    23.1    8.5    217.67   \n",
              "\n",
              "   총 포화 지방산(g)  트랜스 지방산(g)  총 내용량  \n",
              "0          1.9         0.1    500  \n",
              "1          6.0         0.2    400  \n",
              "2         11.3         0.3    300  "
            ],
            "text/html": [
              "\n",
              "  <div id=\"df-cc5740eb-ee3f-4e0a-b64f-a874c86a3f43\">\n",
              "    <div class=\"colab-df-container\">\n",
              "      <div>\n",
              "<style scoped>\n",
              "    .dataframe tbody tr th:only-of-type {\n",
              "        vertical-align: middle;\n",
              "    }\n",
              "\n",
              "    .dataframe tbody tr th {\n",
              "        vertical-align: top;\n",
              "    }\n",
              "\n",
              "    .dataframe thead th {\n",
              "        text-align: right;\n",
              "    }\n",
              "</style>\n",
              "<table border=\"1\" class=\"dataframe\">\n",
              "  <thead>\n",
              "    <tr style=\"text-align: right;\">\n",
              "      <th></th>\n",
              "      <th>식품명</th>\n",
              "      <th>식품대분류</th>\n",
              "      <th>식품상세분류</th>\n",
              "      <th>1회제공량</th>\n",
              "      <th>에너지(㎉)</th>\n",
              "      <th>단백질(g)</th>\n",
              "      <th>지방(g)</th>\n",
              "      <th>탄수화물(g)</th>\n",
              "      <th>총당류(g)</th>\n",
              "      <th>콜레스테롤(㎎)</th>\n",
              "      <th>총 포화 지방산(g)</th>\n",
              "      <th>트랜스 지방산(g)</th>\n",
              "      <th>총 내용량</th>\n",
              "    </tr>\n",
              "  </thead>\n",
              "  <tbody>\n",
              "    <tr>\n",
              "      <th>0</th>\n",
              "      <td>꿩불고기</td>\n",
              "      <td>2</td>\n",
              "      <td>54</td>\n",
              "      <td>500</td>\n",
              "      <td>368.80</td>\n",
              "      <td>33.5</td>\n",
              "      <td>8.5</td>\n",
              "      <td>39.7</td>\n",
              "      <td>16.9</td>\n",
              "      <td>106.18</td>\n",
              "      <td>1.9</td>\n",
              "      <td>0.1</td>\n",
              "      <td>500</td>\n",
              "    </tr>\n",
              "    <tr>\n",
              "      <th>1</th>\n",
              "      <td>닭갈비</td>\n",
              "      <td>2</td>\n",
              "      <td>54</td>\n",
              "      <td>400</td>\n",
              "      <td>595.61</td>\n",
              "      <td>45.9</td>\n",
              "      <td>25.8</td>\n",
              "      <td>44.9</td>\n",
              "      <td>21.2</td>\n",
              "      <td>193.40</td>\n",
              "      <td>6.0</td>\n",
              "      <td>0.2</td>\n",
              "      <td>400</td>\n",
              "    </tr>\n",
              "    <tr>\n",
              "      <th>2</th>\n",
              "      <td>닭갈비</td>\n",
              "      <td>2</td>\n",
              "      <td>54</td>\n",
              "      <td>300</td>\n",
              "      <td>558.47</td>\n",
              "      <td>45.5</td>\n",
              "      <td>31.6</td>\n",
              "      <td>23.1</td>\n",
              "      <td>8.5</td>\n",
              "      <td>217.67</td>\n",
              "      <td>11.3</td>\n",
              "      <td>0.3</td>\n",
              "      <td>300</td>\n",
              "    </tr>\n",
              "  </tbody>\n",
              "</table>\n",
              "</div>\n",
              "      <button class=\"colab-df-convert\" onclick=\"convertToInteractive('df-cc5740eb-ee3f-4e0a-b64f-a874c86a3f43')\"\n",
              "              title=\"Convert this dataframe to an interactive table.\"\n",
              "              style=\"display:none;\">\n",
              "        \n",
              "  <svg xmlns=\"http://www.w3.org/2000/svg\" height=\"24px\"viewBox=\"0 0 24 24\"\n",
              "       width=\"24px\">\n",
              "    <path d=\"M0 0h24v24H0V0z\" fill=\"none\"/>\n",
              "    <path d=\"M18.56 5.44l.94 2.06.94-2.06 2.06-.94-2.06-.94-.94-2.06-.94 2.06-2.06.94zm-11 1L8.5 8.5l.94-2.06 2.06-.94-2.06-.94L8.5 2.5l-.94 2.06-2.06.94zm10 10l.94 2.06.94-2.06 2.06-.94-2.06-.94-.94-2.06-.94 2.06-2.06.94z\"/><path d=\"M17.41 7.96l-1.37-1.37c-.4-.4-.92-.59-1.43-.59-.52 0-1.04.2-1.43.59L10.3 9.45l-7.72 7.72c-.78.78-.78 2.05 0 2.83L4 21.41c.39.39.9.59 1.41.59.51 0 1.02-.2 1.41-.59l7.78-7.78 2.81-2.81c.8-.78.8-2.07 0-2.86zM5.41 20L4 18.59l7.72-7.72 1.47 1.35L5.41 20z\"/>\n",
              "  </svg>\n",
              "      </button>\n",
              "      \n",
              "  <style>\n",
              "    .colab-df-container {\n",
              "      display:flex;\n",
              "      flex-wrap:wrap;\n",
              "      gap: 12px;\n",
              "    }\n",
              "\n",
              "    .colab-df-convert {\n",
              "      background-color: #E8F0FE;\n",
              "      border: none;\n",
              "      border-radius: 50%;\n",
              "      cursor: pointer;\n",
              "      display: none;\n",
              "      fill: #1967D2;\n",
              "      height: 32px;\n",
              "      padding: 0 0 0 0;\n",
              "      width: 32px;\n",
              "    }\n",
              "\n",
              "    .colab-df-convert:hover {\n",
              "      background-color: #E2EBFA;\n",
              "      box-shadow: 0px 1px 2px rgba(60, 64, 67, 0.3), 0px 1px 3px 1px rgba(60, 64, 67, 0.15);\n",
              "      fill: #174EA6;\n",
              "    }\n",
              "\n",
              "    [theme=dark] .colab-df-convert {\n",
              "      background-color: #3B4455;\n",
              "      fill: #D2E3FC;\n",
              "    }\n",
              "\n",
              "    [theme=dark] .colab-df-convert:hover {\n",
              "      background-color: #434B5C;\n",
              "      box-shadow: 0px 1px 3px 1px rgba(0, 0, 0, 0.15);\n",
              "      filter: drop-shadow(0px 1px 2px rgba(0, 0, 0, 0.3));\n",
              "      fill: #FFFFFF;\n",
              "    }\n",
              "  </style>\n",
              "\n",
              "      <script>\n",
              "        const buttonEl =\n",
              "          document.querySelector('#df-cc5740eb-ee3f-4e0a-b64f-a874c86a3f43 button.colab-df-convert');\n",
              "        buttonEl.style.display =\n",
              "          google.colab.kernel.accessAllowed ? 'block' : 'none';\n",
              "\n",
              "        async function convertToInteractive(key) {\n",
              "          const element = document.querySelector('#df-cc5740eb-ee3f-4e0a-b64f-a874c86a3f43');\n",
              "          const dataTable =\n",
              "            await google.colab.kernel.invokeFunction('convertToInteractive',\n",
              "                                                     [key], {});\n",
              "          if (!dataTable) return;\n",
              "\n",
              "          const docLinkHtml = 'Like what you see? Visit the ' +\n",
              "            '<a target=\"_blank\" href=https://colab.research.google.com/notebooks/data_table.ipynb>data table notebook</a>'\n",
              "            + ' to learn more about interactive tables.';\n",
              "          element.innerHTML = '';\n",
              "          dataTable['output_type'] = 'display_data';\n",
              "          await google.colab.output.renderOutput(dataTable, element);\n",
              "          const docLink = document.createElement('div');\n",
              "          docLink.innerHTML = docLinkHtml;\n",
              "          element.appendChild(docLink);\n",
              "        }\n",
              "      </script>\n",
              "    </div>\n",
              "  </div>\n",
              "  "
            ]
          },
          "metadata": {},
          "execution_count": 18
        }
      ]
    },
    {
      "cell_type": "code",
      "source": [
        "food_data.info()"
      ],
      "metadata": {
        "colab": {
          "base_uri": "https://localhost:8080/"
        },
        "id": "ahDF9pCdU8_8",
        "outputId": "aa9fc68f-d6b6-40f2-b413-516ff6203adc"
      },
      "execution_count": 19,
      "outputs": [
        {
          "output_type": "stream",
          "name": "stdout",
          "text": [
            "<class 'pandas.core.frame.DataFrame'>\n",
            "RangeIndex: 7704 entries, 0 to 7703\n",
            "Data columns (total 13 columns):\n",
            " #   Column       Non-Null Count  Dtype  \n",
            "---  ------       --------------  -----  \n",
            " 0   식품명          7704 non-null   object \n",
            " 1   식품대분류        7704 non-null   int64  \n",
            " 2   식품상세분류       7704 non-null   int64  \n",
            " 3   1회제공량        7704 non-null   int64  \n",
            " 4   에너지(㎉)       7704 non-null   float64\n",
            " 5   단백질(g)       7704 non-null   object \n",
            " 6   지방(g)        7704 non-null   float64\n",
            " 7   탄수화물(g)      7704 non-null   object \n",
            " 8   총당류(g)       7704 non-null   object \n",
            " 9   콜레스테롤(㎎)     7704 non-null   float64\n",
            " 10  총 포화 지방산(g)  7704 non-null   float64\n",
            " 11  트랜스 지방산(g)   7704 non-null   float64\n",
            " 12  총 내용량        7704 non-null   int64  \n",
            "dtypes: float64(5), int64(4), object(4)\n",
            "memory usage: 782.6+ KB\n"
          ]
        }
      ]
    },
    {
      "cell_type": "code",
      "source": [
        "protein_idx = food_data[food_data['단백질(g)'] == '1g 미만'].index\n",
        "protein_idx"
      ],
      "metadata": {
        "colab": {
          "base_uri": "https://localhost:8080/"
        },
        "id": "ZSMQudy6Yd0o",
        "outputId": "4d3d4de8-4319-4d0d-cdbe-af9d1b3e64d5"
      },
      "execution_count": 20,
      "outputs": [
        {
          "output_type": "execute_result",
          "data": {
            "text/plain": [
              "Int64Index([7433, 7555, 7567], dtype='int64')"
            ]
          },
          "metadata": {},
          "execution_count": 20
        }
      ]
    },
    {
      "cell_type": "code",
      "source": [
        "carbo_idx = food_data[food_data['탄수화물(g)'] == '1g 미만'].index\n",
        "carbo_idx"
      ],
      "metadata": {
        "colab": {
          "base_uri": "https://localhost:8080/"
        },
        "id": "z28D599acABY",
        "outputId": "34d03dc0-b84a-4d5d-b3c5-16a501246778"
      },
      "execution_count": 21,
      "outputs": [
        {
          "output_type": "execute_result",
          "data": {
            "text/plain": [
              "Int64Index([7695], dtype='int64')"
            ]
          },
          "metadata": {},
          "execution_count": 21
        }
      ]
    },
    {
      "cell_type": "code",
      "source": [
        "sugar_idx = food_data[food_data['총당류(g)'] == '1g 미만'].index\n",
        "sugar_idx"
      ],
      "metadata": {
        "colab": {
          "base_uri": "https://localhost:8080/"
        },
        "id": "F6YLGXd8cTqo",
        "outputId": "42408fec-a33d-42f2-efc2-b02da362ddb3"
      },
      "execution_count": 22,
      "outputs": [
        {
          "output_type": "execute_result",
          "data": {
            "text/plain": [
              "Int64Index([7507, 7508, 7509, 7510, 7511, 7532, 7635, 7643, 7655, 7668, 7686,\n",
              "            7691],\n",
              "           dtype='int64')"
            ]
          },
          "metadata": {},
          "execution_count": 22
        }
      ]
    },
    {
      "cell_type": "code",
      "source": [
        "food_data.loc[food_data['단백질(g)'] == '1g 미만', '단백질(g)'] = 0\n",
        "food_data['단백질(g)'] = food_data['단백질(g)'].astype('float64')"
      ],
      "metadata": {
        "id": "RiRqOrdoccbY"
      },
      "execution_count": 23,
      "outputs": []
    },
    {
      "cell_type": "code",
      "source": [
        "protein_idx = food_data[food_data['단백질(g)'] == '1g 미만'].index\n",
        "protein_idx"
      ],
      "metadata": {
        "colab": {
          "base_uri": "https://localhost:8080/"
        },
        "id": "SxYEbOY6g_pF",
        "outputId": "606bf4d9-70d4-4069-b16e-50126f65df48"
      },
      "execution_count": 24,
      "outputs": [
        {
          "output_type": "execute_result",
          "data": {
            "text/plain": [
              "Int64Index([], dtype='int64')"
            ]
          },
          "metadata": {},
          "execution_count": 24
        }
      ]
    },
    {
      "cell_type": "code",
      "source": [
        "food_data.loc[food_data['탄수화물(g)'] == '1g 미만', '탄수화물(g)'] = 0\n",
        "food_data['탄수화물(g)'] = food_data['탄수화물(g)'].astype('float64')"
      ],
      "metadata": {
        "id": "PTti1b0AhIao"
      },
      "execution_count": 25,
      "outputs": []
    },
    {
      "cell_type": "code",
      "source": [
        "carbo_idx = food_data[food_data['탄수화물(g)'] == '1g 미만'].index\n",
        "carbo_idx"
      ],
      "metadata": {
        "colab": {
          "base_uri": "https://localhost:8080/"
        },
        "id": "uupwMH-yhOAY",
        "outputId": "8a9b4449-09ad-494f-c3f3-b1b4c9f7f1bd"
      },
      "execution_count": 26,
      "outputs": [
        {
          "output_type": "execute_result",
          "data": {
            "text/plain": [
              "Int64Index([], dtype='int64')"
            ]
          },
          "metadata": {},
          "execution_count": 26
        }
      ]
    },
    {
      "cell_type": "code",
      "source": [
        "food_data.loc[food_data['총당류(g)'] == '1g 미만', '총당류(g)'] = 0\n",
        "food_data['총당류(g)'] = food_data['총당류(g)'].astype('float64')"
      ],
      "metadata": {
        "id": "k8rVl7u-hPkN"
      },
      "execution_count": 27,
      "outputs": []
    },
    {
      "cell_type": "code",
      "source": [
        "sugar_idx = food_data[food_data['총당류(g)'] == '1g 미만'].index\n",
        "sugar_idx"
      ],
      "metadata": {
        "colab": {
          "base_uri": "https://localhost:8080/"
        },
        "id": "tJ9pE8p7hTY7",
        "outputId": "87684b3e-608f-4865-8799-2f505aa4604a"
      },
      "execution_count": 28,
      "outputs": [
        {
          "output_type": "execute_result",
          "data": {
            "text/plain": [
              "Int64Index([], dtype='int64')"
            ]
          },
          "metadata": {},
          "execution_count": 28
        }
      ]
    },
    {
      "cell_type": "code",
      "source": [
        "food_data.head(3)"
      ],
      "metadata": {
        "colab": {
          "base_uri": "https://localhost:8080/",
          "height": 143
        },
        "id": "H1FEM4L0hZm9",
        "outputId": "25f56754-dae8-48e4-bfae-37eda9ae2106"
      },
      "execution_count": 29,
      "outputs": [
        {
          "output_type": "execute_result",
          "data": {
            "text/plain": [
              "    식품명  식품대분류  식품상세분류  1회제공량  에너지(㎉)  단백질(g)  지방(g)  탄수화물(g)  총당류(g)  \\\n",
              "0  꿩불고기      2      54    500  368.80    33.5    8.5     39.7    16.9   \n",
              "1   닭갈비      2      54    400  595.61    45.9   25.8     44.9    21.2   \n",
              "2   닭갈비      2      54    300  558.47    45.5   31.6     23.1     8.5   \n",
              "\n",
              "   콜레스테롤(㎎)  총 포화 지방산(g)  트랜스 지방산(g)  총 내용량  \n",
              "0    106.18          1.9         0.1    500  \n",
              "1    193.40          6.0         0.2    400  \n",
              "2    217.67         11.3         0.3    300  "
            ],
            "text/html": [
              "\n",
              "  <div id=\"df-b0aa6778-5721-475a-a2d4-b7ed699fdd7c\">\n",
              "    <div class=\"colab-df-container\">\n",
              "      <div>\n",
              "<style scoped>\n",
              "    .dataframe tbody tr th:only-of-type {\n",
              "        vertical-align: middle;\n",
              "    }\n",
              "\n",
              "    .dataframe tbody tr th {\n",
              "        vertical-align: top;\n",
              "    }\n",
              "\n",
              "    .dataframe thead th {\n",
              "        text-align: right;\n",
              "    }\n",
              "</style>\n",
              "<table border=\"1\" class=\"dataframe\">\n",
              "  <thead>\n",
              "    <tr style=\"text-align: right;\">\n",
              "      <th></th>\n",
              "      <th>식품명</th>\n",
              "      <th>식품대분류</th>\n",
              "      <th>식품상세분류</th>\n",
              "      <th>1회제공량</th>\n",
              "      <th>에너지(㎉)</th>\n",
              "      <th>단백질(g)</th>\n",
              "      <th>지방(g)</th>\n",
              "      <th>탄수화물(g)</th>\n",
              "      <th>총당류(g)</th>\n",
              "      <th>콜레스테롤(㎎)</th>\n",
              "      <th>총 포화 지방산(g)</th>\n",
              "      <th>트랜스 지방산(g)</th>\n",
              "      <th>총 내용량</th>\n",
              "    </tr>\n",
              "  </thead>\n",
              "  <tbody>\n",
              "    <tr>\n",
              "      <th>0</th>\n",
              "      <td>꿩불고기</td>\n",
              "      <td>2</td>\n",
              "      <td>54</td>\n",
              "      <td>500</td>\n",
              "      <td>368.80</td>\n",
              "      <td>33.5</td>\n",
              "      <td>8.5</td>\n",
              "      <td>39.7</td>\n",
              "      <td>16.9</td>\n",
              "      <td>106.18</td>\n",
              "      <td>1.9</td>\n",
              "      <td>0.1</td>\n",
              "      <td>500</td>\n",
              "    </tr>\n",
              "    <tr>\n",
              "      <th>1</th>\n",
              "      <td>닭갈비</td>\n",
              "      <td>2</td>\n",
              "      <td>54</td>\n",
              "      <td>400</td>\n",
              "      <td>595.61</td>\n",
              "      <td>45.9</td>\n",
              "      <td>25.8</td>\n",
              "      <td>44.9</td>\n",
              "      <td>21.2</td>\n",
              "      <td>193.40</td>\n",
              "      <td>6.0</td>\n",
              "      <td>0.2</td>\n",
              "      <td>400</td>\n",
              "    </tr>\n",
              "    <tr>\n",
              "      <th>2</th>\n",
              "      <td>닭갈비</td>\n",
              "      <td>2</td>\n",
              "      <td>54</td>\n",
              "      <td>300</td>\n",
              "      <td>558.47</td>\n",
              "      <td>45.5</td>\n",
              "      <td>31.6</td>\n",
              "      <td>23.1</td>\n",
              "      <td>8.5</td>\n",
              "      <td>217.67</td>\n",
              "      <td>11.3</td>\n",
              "      <td>0.3</td>\n",
              "      <td>300</td>\n",
              "    </tr>\n",
              "  </tbody>\n",
              "</table>\n",
              "</div>\n",
              "      <button class=\"colab-df-convert\" onclick=\"convertToInteractive('df-b0aa6778-5721-475a-a2d4-b7ed699fdd7c')\"\n",
              "              title=\"Convert this dataframe to an interactive table.\"\n",
              "              style=\"display:none;\">\n",
              "        \n",
              "  <svg xmlns=\"http://www.w3.org/2000/svg\" height=\"24px\"viewBox=\"0 0 24 24\"\n",
              "       width=\"24px\">\n",
              "    <path d=\"M0 0h24v24H0V0z\" fill=\"none\"/>\n",
              "    <path d=\"M18.56 5.44l.94 2.06.94-2.06 2.06-.94-2.06-.94-.94-2.06-.94 2.06-2.06.94zm-11 1L8.5 8.5l.94-2.06 2.06-.94-2.06-.94L8.5 2.5l-.94 2.06-2.06.94zm10 10l.94 2.06.94-2.06 2.06-.94-2.06-.94-.94-2.06-.94 2.06-2.06.94z\"/><path d=\"M17.41 7.96l-1.37-1.37c-.4-.4-.92-.59-1.43-.59-.52 0-1.04.2-1.43.59L10.3 9.45l-7.72 7.72c-.78.78-.78 2.05 0 2.83L4 21.41c.39.39.9.59 1.41.59.51 0 1.02-.2 1.41-.59l7.78-7.78 2.81-2.81c.8-.78.8-2.07 0-2.86zM5.41 20L4 18.59l7.72-7.72 1.47 1.35L5.41 20z\"/>\n",
              "  </svg>\n",
              "      </button>\n",
              "      \n",
              "  <style>\n",
              "    .colab-df-container {\n",
              "      display:flex;\n",
              "      flex-wrap:wrap;\n",
              "      gap: 12px;\n",
              "    }\n",
              "\n",
              "    .colab-df-convert {\n",
              "      background-color: #E8F0FE;\n",
              "      border: none;\n",
              "      border-radius: 50%;\n",
              "      cursor: pointer;\n",
              "      display: none;\n",
              "      fill: #1967D2;\n",
              "      height: 32px;\n",
              "      padding: 0 0 0 0;\n",
              "      width: 32px;\n",
              "    }\n",
              "\n",
              "    .colab-df-convert:hover {\n",
              "      background-color: #E2EBFA;\n",
              "      box-shadow: 0px 1px 2px rgba(60, 64, 67, 0.3), 0px 1px 3px 1px rgba(60, 64, 67, 0.15);\n",
              "      fill: #174EA6;\n",
              "    }\n",
              "\n",
              "    [theme=dark] .colab-df-convert {\n",
              "      background-color: #3B4455;\n",
              "      fill: #D2E3FC;\n",
              "    }\n",
              "\n",
              "    [theme=dark] .colab-df-convert:hover {\n",
              "      background-color: #434B5C;\n",
              "      box-shadow: 0px 1px 3px 1px rgba(0, 0, 0, 0.15);\n",
              "      filter: drop-shadow(0px 1px 2px rgba(0, 0, 0, 0.3));\n",
              "      fill: #FFFFFF;\n",
              "    }\n",
              "  </style>\n",
              "\n",
              "      <script>\n",
              "        const buttonEl =\n",
              "          document.querySelector('#df-b0aa6778-5721-475a-a2d4-b7ed699fdd7c button.colab-df-convert');\n",
              "        buttonEl.style.display =\n",
              "          google.colab.kernel.accessAllowed ? 'block' : 'none';\n",
              "\n",
              "        async function convertToInteractive(key) {\n",
              "          const element = document.querySelector('#df-b0aa6778-5721-475a-a2d4-b7ed699fdd7c');\n",
              "          const dataTable =\n",
              "            await google.colab.kernel.invokeFunction('convertToInteractive',\n",
              "                                                     [key], {});\n",
              "          if (!dataTable) return;\n",
              "\n",
              "          const docLinkHtml = 'Like what you see? Visit the ' +\n",
              "            '<a target=\"_blank\" href=https://colab.research.google.com/notebooks/data_table.ipynb>data table notebook</a>'\n",
              "            + ' to learn more about interactive tables.';\n",
              "          element.innerHTML = '';\n",
              "          dataTable['output_type'] = 'display_data';\n",
              "          await google.colab.output.renderOutput(dataTable, element);\n",
              "          const docLink = document.createElement('div');\n",
              "          docLink.innerHTML = docLinkHtml;\n",
              "          element.appendChild(docLink);\n",
              "        }\n",
              "      </script>\n",
              "    </div>\n",
              "  </div>\n",
              "  "
            ]
          },
          "metadata": {},
          "execution_count": 29
        }
      ]
    },
    {
      "cell_type": "code",
      "source": [
        "food_data.info()"
      ],
      "metadata": {
        "colab": {
          "base_uri": "https://localhost:8080/"
        },
        "id": "vdcd5dtLhc9o",
        "outputId": "756702b7-186b-4436-b3a1-4d48f482095e"
      },
      "execution_count": 30,
      "outputs": [
        {
          "output_type": "stream",
          "name": "stdout",
          "text": [
            "<class 'pandas.core.frame.DataFrame'>\n",
            "RangeIndex: 7704 entries, 0 to 7703\n",
            "Data columns (total 13 columns):\n",
            " #   Column       Non-Null Count  Dtype  \n",
            "---  ------       --------------  -----  \n",
            " 0   식품명          7704 non-null   object \n",
            " 1   식품대분류        7704 non-null   int64  \n",
            " 2   식품상세분류       7704 non-null   int64  \n",
            " 3   1회제공량        7704 non-null   int64  \n",
            " 4   에너지(㎉)       7704 non-null   float64\n",
            " 5   단백질(g)       7704 non-null   float64\n",
            " 6   지방(g)        7704 non-null   float64\n",
            " 7   탄수화물(g)      7704 non-null   float64\n",
            " 8   총당류(g)       7704 non-null   float64\n",
            " 9   콜레스테롤(㎎)     7704 non-null   float64\n",
            " 10  총 포화 지방산(g)  7704 non-null   float64\n",
            " 11  트랜스 지방산(g)   7704 non-null   float64\n",
            " 12  총 내용량        7704 non-null   int64  \n",
            "dtypes: float64(8), int64(4), object(1)\n",
            "memory usage: 782.6+ KB\n"
          ]
        }
      ]
    },
    {
      "cell_type": "code",
      "source": [
        "food_data['단백질 비율'] = 100 * (food_data['단백질(g)'] / food_data['총 내용량'])"
      ],
      "metadata": {
        "id": "tXQJFOlIkkbM"
      },
      "execution_count": 34,
      "outputs": []
    },
    {
      "cell_type": "code",
      "source": [
        "protein_sort = np.sort(food_data['단백질 비율'])\n",
        "protein_sort_des = protein_sort[::-1]\n",
        "protein_sort_des"
      ],
      "metadata": {
        "colab": {
          "base_uri": "https://localhost:8080/"
        },
        "id": "u4387UKskv_T",
        "outputId": "c868e78a-1391-4959-9feb-471bbffb3e0b"
      },
      "execution_count": 35,
      "outputs": [
        {
          "output_type": "execute_result",
          "data": {
            "text/plain": [
              "array([92.10526316, 80.        , 77.1       , ...,  0.        ,\n",
              "        0.        ,  0.        ])"
            ]
          },
          "metadata": {},
          "execution_count": 35
        }
      ]
    },
    {
      "cell_type": "code",
      "source": [
        "from sklearn.cluster import KMeans\n",
        "import matplotlib.pyplot  as plt\n",
        "import seaborn as sns\n",
        "\n",
        "model = KMeans(n_clusters=3, algorithm='auto')\n",
        "feature = food_data[['단백질(g)', '총 내용량']]\n",
        "model.fit(feature)\n",
        "predict = pd.DataFrame(model.predict(feature))\n",
        "predict.columns = ['predict']"
      ],
      "metadata": {
        "colab": {
          "base_uri": "https://localhost:8080/"
        },
        "id": "AZgOrvopr57t",
        "outputId": "33e2179f-fb6f-4bc5-9d3c-01cfacc80e8f"
      },
      "execution_count": 39,
      "outputs": [
        {
          "output_type": "stream",
          "name": "stderr",
          "text": [
            "/usr/local/lib/python3.9/dist-packages/sklearn/cluster/_kmeans.py:870: FutureWarning: The default value of `n_init` will change from 10 to 'auto' in 1.4. Set the value of `n_init` explicitly to suppress the warning\n",
            "  warnings.warn(\n",
            "/usr/local/lib/python3.9/dist-packages/sklearn/cluster/_kmeans.py:1366: FutureWarning: algorithm='auto' is deprecated, it will be removed in 1.3. Using 'lloyd' instead.\n",
            "  warnings.warn(\n"
          ]
        }
      ]
    },
    {
      "cell_type": "code",
      "source": [
        "r = pd.concat([feature, predict], axis=1)"
      ],
      "metadata": {
        "id": "xTBkURqAssGg"
      },
      "execution_count": 40,
      "outputs": []
    },
    {
      "cell_type": "code",
      "source": [
        "plt.scatter(r['단백질(g)'],r['총 내용량'], c=r['predict'],alpha=0.5)"
      ],
      "metadata": {
        "colab": {
          "base_uri": "https://localhost:8080/",
          "height": 172
        },
        "id": "wcmQTLxxs20s",
        "outputId": "06b35b56-0670-4d3c-c293-51c31f1f7518"
      },
      "execution_count": 45,
      "outputs": [
        {
          "output_type": "error",
          "ename": "TypeError",
          "evalue": "ignored",
          "traceback": [
            "\u001b[0;31m---------------------------------------------------------------------------\u001b[0m",
            "\u001b[0;31mTypeError\u001b[0m                                 Traceback (most recent call last)",
            "\u001b[0;32m<ipython-input-45-dc6088650cbb>\u001b[0m in \u001b[0;36m<module>\u001b[0;34m\u001b[0m\n\u001b[0;32m----> 1\u001b[0;31m \u001b[0mplt\u001b[0m\u001b[0;34m.\u001b[0m\u001b[0mscatter\u001b[0m\u001b[0;34m(\u001b[0m\u001b[0mr\u001b[0m\u001b[0;34m(\u001b[0m\u001b[0mfood_data\u001b[0m\u001b[0;34m[\u001b[0m\u001b[0;34m'단백질(g)'\u001b[0m\u001b[0;34m]\u001b[0m\u001b[0;34m)\u001b[0m\u001b[0;34m,\u001b[0m\u001b[0mr\u001b[0m\u001b[0;34m(\u001b[0m\u001b[0mfood_data\u001b[0m\u001b[0;34m[\u001b[0m\u001b[0;34m'총 내용량'\u001b[0m\u001b[0;34m]\u001b[0m\u001b[0;34m)\u001b[0m\u001b[0;34m,\u001b[0m \u001b[0mc\u001b[0m\u001b[0;34m=\u001b[0m\u001b[0mr\u001b[0m\u001b[0;34m[\u001b[0m\u001b[0;34m'predict'\u001b[0m\u001b[0;34m]\u001b[0m\u001b[0;34m,\u001b[0m\u001b[0malpha\u001b[0m\u001b[0;34m=\u001b[0m\u001b[0;36m0.5\u001b[0m\u001b[0;34m)\u001b[0m\u001b[0;34m\u001b[0m\u001b[0;34m\u001b[0m\u001b[0m\n\u001b[0m",
            "\u001b[0;31mTypeError\u001b[0m: 'DataFrame' object is not callable"
          ]
        }
      ]
    },
    {
      "cell_type": "code",
      "source": [
        "model = KMeans(n_clusters=3, algorithm='auto')\n",
        "feature = food_data[['지방(g)', '총 내용량']]\n",
        "model.fit(feature)\n",
        "predict = pd.DataFrame(model.predict(feature))\n",
        "predict.columns = ['predict']"
      ],
      "metadata": {
        "id": "4-612nsguGtd"
      },
      "execution_count": null,
      "outputs": []
    },
    {
      "cell_type": "code",
      "source": [
        "r = pd.concat([feature, predict], axis=1)"
      ],
      "metadata": {
        "id": "bG1sjzwYuGp5"
      },
      "execution_count": null,
      "outputs": []
    },
    {
      "cell_type": "code",
      "source": [
        "plt.scatter(r['지방(g)'],r['총 내용량'], c=r['predict'],alpha=0.5)"
      ],
      "metadata": {
        "colab": {
          "base_uri": "https://localhost:8080/",
          "height": 283
        },
        "id": "UR993X7mtxyE",
        "outputId": "3d55c9b5-e428-49bb-c87b-006338d39fd1"
      },
      "execution_count": 44,
      "outputs": [
        {
          "output_type": "execute_result",
          "data": {
            "text/plain": [
              "<matplotlib.collections.PathCollection at 0x7f44bb5ba1c0>"
            ]
          },
          "metadata": {},
          "execution_count": 44
        },
        {
          "output_type": "display_data",
          "data": {
            "text/plain": [
              "<Figure size 432x288 with 1 Axes>"
            ],
            "image/png": "[encoded data removed]"
          },
          "metadata": {
            "needs_background": "light"
          }
        }
      ]
    },
    {
      "cell_type": "code",
      "source": [
        "model = KMeans(n_clusters=3, algorithm='auto')\n",
        "feature = food_data[['탄수화물(g)', '총 내용량']]\n",
        "model.fit(feature)\n",
        "predict = pd.DataFrame(model.predict(feature))\n",
        "predict.columns = ['predict']"
      ],
      "metadata": {
        "colab": {
          "base_uri": "https://localhost:8080/"
        },
        "id": "YSOl2QVCuLhZ",
        "outputId": "0db47d1a-6752-45c5-97ca-0647dd1e616f"
      },
      "execution_count": 46,
      "outputs": [
        {
          "output_type": "stream",
          "name": "stderr",
          "text": [
            "/usr/local/lib/python3.9/dist-packages/sklearn/cluster/_kmeans.py:870: FutureWarning: The default value of `n_init` will change from 10 to 'auto' in 1.4. Set the value of `n_init` explicitly to suppress the warning\n",
            "  warnings.warn(\n",
            "/usr/local/lib/python3.9/dist-packages/sklearn/cluster/_kmeans.py:1366: FutureWarning: algorithm='auto' is deprecated, it will be removed in 1.3. Using 'lloyd' instead.\n",
            "  warnings.warn(\n"
          ]
        }
      ]
    },
    {
      "cell_type": "code",
      "source": [
        "r = pd.concat([feature, predict], axis=1)"
      ],
      "metadata": {
        "id": "RdXdjFNAt1nE"
      },
      "execution_count": 47,
      "outputs": []
    },
    {
      "cell_type": "code",
      "source": [
        "plt.scatter(r['탄수화물(g)'],r['총 내용량'], c=r['predict'],alpha=0.5)"
      ],
      "metadata": {
        "colab": {
          "base_uri": "https://localhost:8080/",
          "height": 283
        },
        "id": "42QKJ0JYuRxh",
        "outputId": "85001215-1ab0-4e01-8f1b-0cb9a6cf3a89"
      },
      "execution_count": 49,
      "outputs": [
        {
          "output_type": "execute_result",
          "data": {
            "text/plain": [
              "<matplotlib.collections.PathCollection at 0x7f44bb7fffa0>"
            ]
          },
          "metadata": {},
          "execution_count": 49
        },
        {
          "output_type": "display_data",
          "data": {
            "text/plain": [
              "<Figure size 432x288 with 1 Axes>"
            ],
            "image/png": "[encoded data removed]"
          },
          "metadata": {
            "needs_background": "light"
          }
        }
      ]
    }
  ]
}